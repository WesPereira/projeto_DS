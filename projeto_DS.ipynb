{
 "cells": [
  {
   "cell_type": "markdown",
   "metadata": {},
   "source": [
    "# Projeto do Trainee: Data Science\n",
    "Esse notebook foi realizado por $Wesley$ $Pereira$ para o projeto do trainee de Data Science do primeiro semestre de 2020.<br/>\n",
    "<img src=\"https://i.ibb.co/DtHQ3FG/802x265-Logo-GT.png\" width=\"400\"><br/>\n",
    "O projeto é constutuído de 2 partes principais:\n",
    "<ul>\n",
    "<li> Web Scraping da página <code>https://scrapethissite.com/pages/forms/</code> que contém dados sobre o desempenho de diversas equipes de Hockey no Gelo nos últimos anos. </li>\n",
    "<li> Análise dos dados obtidos, assim como do dataset <code>DataSet ESPN.csv</code> fornecido no enunciado do projeto.</li>\n",
    "<ul>"
   ]
  },
  {
   "cell_type": "markdown",
   "metadata": {},
   "source": [
    "## 1. Web Scraping\n",
    "O Web Scraping permite a coleta de dados em sites específicos. Para realizar tal tarefa utilizaremos as duas bibliotecas:\n",
    "<ul>\n",
    "    <li><strong>urllib</strong>: Para acessar o site e fazer a aquisição do código-fonte(html) </li>\n",
    "    <li><strong>BeautifulSoup</strong>: Para trabalhar com o html e obter as tabelas necessárias </li>\n",
    "</ul>\n",
    "Primeiro, vamos importar as bibliotecas necessárias para adquirir o html do site."
   ]
  },
  {
   "cell_type": "code",
   "execution_count": 3,
   "metadata": {},
   "outputs": [],
   "source": [
    "from urllib.request import Request, urlopen\n",
    "from urllib.error import URLError, HTTPError"
   ]
  },
  {
   "cell_type": "markdown",
   "metadata": {},
   "source": [
    "Em seguida, iremos definir o url base e o cabeçalho que o site utiliza"
   ]
  },
  {
   "cell_type": "code",
   "execution_count": 4,
   "metadata": {},
   "outputs": [],
   "source": [
    "url = 'https://scrapethissite.com/pages/forms/?page_num=1&per_page=100'\n",
    "headers = {'User-Agent': 'Mozilla/5.0 (X11; Linux x86_64) AppleWebKit/537.36 (KHTML, like Gecko) Chrome/81.0.4044.138 Safari/537.36'}"
   ]
  },
  {
   "cell_type": "markdown",
   "metadata": {},
   "source": [
    "Assim, podemos fazer o _request_ para obter todo o html"
   ]
  },
  {
   "cell_type": "code",
   "execution_count": 5,
   "metadata": {},
   "outputs": [],
   "source": [
    "try:\n",
    "    # Faz o request para o site\n",
    "    req = Request(url, headers = headers)\n",
    "    \n",
    "    # Capta a resposta da requisição e lê o código-fonte\n",
    "    response = urlopen(req)\n",
    "    html = response.read()\n",
    "\n",
    "#Tratamento de erros comuns em requisições http\n",
    "except URLError as e:\n",
    "    print(e.status, e.reason)\n",
    "\n",
    "except HTTPError as e:\n",
    "    print(e.reason)"
   ]
  },
  {
   "cell_type": "code",
   "execution_count": 6,
   "metadata": {},
   "outputs": [],
   "source": [
    "# Transformação simples em código utf-8\n",
    "html = html.decode('utf-8')"
   ]
  },
  {
   "cell_type": "markdown",
   "metadata": {},
   "source": [
    "Vamos agora criar um objeto do tipo ```BeautifulSoup```, que nos auxiliará a investigar e extrair os dados do código html."
   ]
  },
  {
   "cell_type": "code",
   "execution_count": 7,
   "metadata": {},
   "outputs": [],
   "source": [
    "from bs4 import BeautifulSoup\n",
    "\n",
    "#Cria o objeto BeautifulSoup utilizando o parser padrão de html\n",
    "soup = BeautifulSoup(html, 'html.parser')"
   ]
  },
  {
   "cell_type": "markdown",
   "metadata": {},
   "source": [
    "Tendo o html de tal modo que possamos trabalhá-lo, iremos agora encontrar a quantidade de páginas que devemos varrer."
   ]
  },
  {
   "cell_type": "code",
   "execution_count": 8,
   "metadata": {},
   "outputs": [
    {
     "name": "stdout",
     "output_type": "stream",
     "text": [
      "6\n"
     ]
    }
   ],
   "source": [
    "# Encontra a ul que representa a paginação do site\n",
    "paginacao = soup.find_all('ul', class_='pagination')[0]\n",
    "\n",
    "# Dentro dessa ul pegamos todas as li\n",
    "paginacao_itens = paginacao.find_all('li')\n",
    "\n",
    "# Analisando o site percebemos que que a li onde fica a última página é a penútima ul [-2]\n",
    "# Isso se deve ao fato do site ter uma li dedicada a avançar para a página seguinte.\n",
    "ult_pagina = int(paginacao_itens[-2].get_text())\n",
    "print(ult_pagina)"
   ]
  },
  {
   "cell_type": "markdown",
   "metadata": {},
   "source": [
    "<p>Agora que sabemos quantas páginas temos, podemos rodar um loop parecido com o feito acima para obter as tabelas da página. Primeiro, criamos o <code>url_base</code> conforme o número da página que queremos obter o código-fonte. Em seguida, fazemos a requisiçao e adquirimos o html, conforme já feito anteriormente. Por fim, obtemos a tabela e adicionamos no dicionários de dataframes criado. "
   ]
  },
  {
   "cell_type": "code",
   "execution_count": 9,
   "metadata": {},
   "outputs": [
    {
     "name": "stdout",
     "output_type": "stream",
     "text": [
      "DataFrame 1 extraído com sucesso.\n",
      "DataFrame 2 extraído com sucesso.\n",
      "DataFrame 3 extraído com sucesso.\n",
      "DataFrame 4 extraído com sucesso.\n",
      "DataFrame 5 extraído com sucesso.\n",
      "DataFrame 6 extraído com sucesso.\n",
      "Cabô.\n"
     ]
    }
   ],
   "source": [
    "import pandas as pd\n",
    "\n",
    "# Dicionário criado para armazenar os dataframes obtidos de cada página\n",
    "all_df = {}\n",
    "\n",
    "# Loop que obtém, transforma e armazena os dataframes do site\n",
    "for page in range(1, ult_pagina+1):\n",
    "    \n",
    "    base_url = 'https://scrapethissite.com/pages/forms/?page_num=' + str(page) + '&per_page=100'\n",
    "    \n",
    "    try: \n",
    "        req = Request(base_url, headers = headers)\n",
    "        response = urlopen(req)\n",
    "        html = response.read()\n",
    "\n",
    "    except URLError as e:\n",
    "        print(e.status, e.reason)\n",
    "\n",
    "    except HTTPError as e:\n",
    "        print(e.reason)\n",
    "        \n",
    "    soup = BeautifulSoup(html, 'html.parser')\n",
    "    \n",
    "    # Obtém a tabela da página\n",
    "    table = soup.find_all('table')[0]\n",
    "    \n",
    "    # Transforma a tabela em dataframe e adiciona no dicionário\n",
    "    all_df[\"df\" + str(page)] = pd.read_html(str(table))[0]\n",
    "    \n",
    "    print('DataFrame ' + str(page) + ' extraído com sucesso.' )\n",
    "print('Cabô.')"
   ]
  },
  {
   "cell_type": "code",
   "execution_count": 10,
   "metadata": {
    "scrolled": true
   },
   "outputs": [
    {
     "data": {
      "text/html": [
       "<div>\n",
       "<style scoped>\n",
       "    .dataframe tbody tr th:only-of-type {\n",
       "        vertical-align: middle;\n",
       "    }\n",
       "\n",
       "    .dataframe tbody tr th {\n",
       "        vertical-align: top;\n",
       "    }\n",
       "\n",
       "    .dataframe thead th {\n",
       "        text-align: right;\n",
       "    }\n",
       "</style>\n",
       "<table border=\"1\" class=\"dataframe\">\n",
       "  <thead>\n",
       "    <tr style=\"text-align: right;\">\n",
       "      <th></th>\n",
       "      <th>Team Name</th>\n",
       "      <th>Year</th>\n",
       "      <th>Wins</th>\n",
       "      <th>Losses</th>\n",
       "      <th>OT Losses</th>\n",
       "      <th>Win %</th>\n",
       "      <th>Goals For (GF)</th>\n",
       "      <th>Goals Against (GA)</th>\n",
       "      <th>+ / -</th>\n",
       "    </tr>\n",
       "  </thead>\n",
       "  <tbody>\n",
       "    <tr>\n",
       "      <th>0</th>\n",
       "      <td>Edmonton Oilers</td>\n",
       "      <td>1994</td>\n",
       "      <td>17</td>\n",
       "      <td>27</td>\n",
       "      <td>NaN</td>\n",
       "      <td>0.354</td>\n",
       "      <td>136</td>\n",
       "      <td>183</td>\n",
       "      <td>-47</td>\n",
       "    </tr>\n",
       "    <tr>\n",
       "      <th>1</th>\n",
       "      <td>Florida Panthers</td>\n",
       "      <td>1994</td>\n",
       "      <td>20</td>\n",
       "      <td>22</td>\n",
       "      <td>NaN</td>\n",
       "      <td>0.417</td>\n",
       "      <td>115</td>\n",
       "      <td>127</td>\n",
       "      <td>-12</td>\n",
       "    </tr>\n",
       "    <tr>\n",
       "      <th>2</th>\n",
       "      <td>Hartford Whalers</td>\n",
       "      <td>1994</td>\n",
       "      <td>19</td>\n",
       "      <td>24</td>\n",
       "      <td>NaN</td>\n",
       "      <td>0.396</td>\n",
       "      <td>127</td>\n",
       "      <td>141</td>\n",
       "      <td>-14</td>\n",
       "    </tr>\n",
       "    <tr>\n",
       "      <th>3</th>\n",
       "      <td>Los Angeles Kings</td>\n",
       "      <td>1994</td>\n",
       "      <td>16</td>\n",
       "      <td>23</td>\n",
       "      <td>NaN</td>\n",
       "      <td>0.333</td>\n",
       "      <td>142</td>\n",
       "      <td>174</td>\n",
       "      <td>-32</td>\n",
       "    </tr>\n",
       "    <tr>\n",
       "      <th>4</th>\n",
       "      <td>Montreal Canadiens</td>\n",
       "      <td>1994</td>\n",
       "      <td>18</td>\n",
       "      <td>23</td>\n",
       "      <td>NaN</td>\n",
       "      <td>0.375</td>\n",
       "      <td>125</td>\n",
       "      <td>148</td>\n",
       "      <td>-23</td>\n",
       "    </tr>\n",
       "  </tbody>\n",
       "</table>\n",
       "</div>"
      ],
      "text/plain": [
       "            Team Name  Year  Wins  Losses  OT Losses  Win %  Goals For (GF)  \\\n",
       "0     Edmonton Oilers  1994    17      27        NaN  0.354             136   \n",
       "1    Florida Panthers  1994    20      22        NaN  0.417             115   \n",
       "2    Hartford Whalers  1994    19      24        NaN  0.396             127   \n",
       "3   Los Angeles Kings  1994    16      23        NaN  0.333             142   \n",
       "4  Montreal Canadiens  1994    18      23        NaN  0.375             125   \n",
       "\n",
       "   Goals Against (GA)  + / -  \n",
       "0                 183    -47  \n",
       "1                 127    -12  \n",
       "2                 141    -14  \n",
       "3                 174    -32  \n",
       "4                 148    -23  "
      ]
     },
     "execution_count": 10,
     "metadata": {},
     "output_type": "execute_result"
    }
   ],
   "source": [
    "# Visualização de um dos dataframes obtidos\n",
    "all_df[\"df2\"].head()"
   ]
  },
  {
   "cell_type": "markdown",
   "metadata": {},
   "source": [
    "A seguir vamos juntar todos os dataframes em um único."
   ]
  },
  {
   "cell_type": "code",
   "execution_count": 11,
   "metadata": {},
   "outputs": [],
   "source": [
    "# Função auxiliar que une 2 dataframes\n",
    "def une_dataframes(df1, df2):\n",
    "    return df1.append(df2, ignore_index=True)\n",
    "\n",
    "# Loop para juntar os dataframes\n",
    "df = pd.DataFrame()\n",
    "for key in all_df.keys():\n",
    "    df = une_dataframes(df, all_df[key])"
   ]
  },
  {
   "cell_type": "markdown",
   "metadata": {},
   "source": [
    "Por último, salvar o dataframe"
   ]
  },
  {
   "cell_type": "code",
   "execution_count": 12,
   "metadata": {},
   "outputs": [],
   "source": [
    "df.to_csv('./hockey_teams.csv')"
   ]
  },
  {
   "cell_type": "markdown",
   "metadata": {},
   "source": [
    "## 2. Análise de Dados"
   ]
  },
  {
   "cell_type": "code",
   "execution_count": 13,
   "metadata": {},
   "outputs": [
    {
     "name": "stdout",
     "output_type": "stream",
     "text": [
      "Shape do dataframe df_Teams: (582, 9)\n",
      "Shape do dataframe df_ESPN: (290, 12)\n"
     ]
    }
   ],
   "source": [
    "import pandas as pd\n",
    "import seaborn as sns\n",
    "import matplotlib.pyplot as plt\n",
    "from scipy import stats\n",
    "\n",
    "# Lendo os datasets\n",
    "df_Teams = df\n",
    "df_ESPN = pd.read_csv('DataSet ESPN.csv', index_col=0, thousands=',')\n",
    "\n",
    "# Tamanho dos dataframes lidos\n",
    "print('Shape do dataframe df_Teams: ' + str(df_Teams.shape))\n",
    "print('Shape do dataframe df_ESPN: ' + str(df_ESPN.shape))"
   ]
  },
  {
   "cell_type": "code",
   "execution_count": 14,
   "metadata": {},
   "outputs": [
    {
     "data": {
      "text/html": [
       "<div>\n",
       "<style scoped>\n",
       "    .dataframe tbody tr th:only-of-type {\n",
       "        vertical-align: middle;\n",
       "    }\n",
       "\n",
       "    .dataframe tbody tr th {\n",
       "        vertical-align: top;\n",
       "    }\n",
       "\n",
       "    .dataframe thead th {\n",
       "        text-align: right;\n",
       "    }\n",
       "</style>\n",
       "<table border=\"1\" class=\"dataframe\">\n",
       "  <thead>\n",
       "    <tr style=\"text-align: right;\">\n",
       "      <th></th>\n",
       "      <th>Team Name</th>\n",
       "      <th>Year</th>\n",
       "      <th>Wins</th>\n",
       "      <th>Losses</th>\n",
       "      <th>OT Losses</th>\n",
       "      <th>Win %</th>\n",
       "      <th>Goals For (GF)</th>\n",
       "      <th>Goals Against (GA)</th>\n",
       "      <th>+ / -</th>\n",
       "    </tr>\n",
       "  </thead>\n",
       "  <tbody>\n",
       "    <tr>\n",
       "      <th>0</th>\n",
       "      <td>Boston Bruins</td>\n",
       "      <td>1990</td>\n",
       "      <td>44</td>\n",
       "      <td>24</td>\n",
       "      <td>NaN</td>\n",
       "      <td>0.550</td>\n",
       "      <td>299</td>\n",
       "      <td>264</td>\n",
       "      <td>35</td>\n",
       "    </tr>\n",
       "    <tr>\n",
       "      <th>1</th>\n",
       "      <td>Buffalo Sabres</td>\n",
       "      <td>1990</td>\n",
       "      <td>31</td>\n",
       "      <td>30</td>\n",
       "      <td>NaN</td>\n",
       "      <td>0.388</td>\n",
       "      <td>292</td>\n",
       "      <td>278</td>\n",
       "      <td>14</td>\n",
       "    </tr>\n",
       "    <tr>\n",
       "      <th>2</th>\n",
       "      <td>Calgary Flames</td>\n",
       "      <td>1990</td>\n",
       "      <td>46</td>\n",
       "      <td>26</td>\n",
       "      <td>NaN</td>\n",
       "      <td>0.575</td>\n",
       "      <td>344</td>\n",
       "      <td>263</td>\n",
       "      <td>81</td>\n",
       "    </tr>\n",
       "    <tr>\n",
       "      <th>3</th>\n",
       "      <td>Chicago Blackhawks</td>\n",
       "      <td>1990</td>\n",
       "      <td>49</td>\n",
       "      <td>23</td>\n",
       "      <td>NaN</td>\n",
       "      <td>0.613</td>\n",
       "      <td>284</td>\n",
       "      <td>211</td>\n",
       "      <td>73</td>\n",
       "    </tr>\n",
       "    <tr>\n",
       "      <th>4</th>\n",
       "      <td>Detroit Red Wings</td>\n",
       "      <td>1990</td>\n",
       "      <td>34</td>\n",
       "      <td>38</td>\n",
       "      <td>NaN</td>\n",
       "      <td>0.425</td>\n",
       "      <td>273</td>\n",
       "      <td>298</td>\n",
       "      <td>-25</td>\n",
       "    </tr>\n",
       "  </tbody>\n",
       "</table>\n",
       "</div>"
      ],
      "text/plain": [
       "            Team Name  Year  Wins  Losses  OT Losses  Win %  Goals For (GF)  \\\n",
       "0       Boston Bruins  1990    44      24        NaN  0.550             299   \n",
       "1      Buffalo Sabres  1990    31      30        NaN  0.388             292   \n",
       "2      Calgary Flames  1990    46      26        NaN  0.575             344   \n",
       "3  Chicago Blackhawks  1990    49      23        NaN  0.613             284   \n",
       "4   Detroit Red Wings  1990    34      38        NaN  0.425             273   \n",
       "\n",
       "   Goals Against (GA)  + / -  \n",
       "0                 264     35  \n",
       "1                 278     14  \n",
       "2                 263     81  \n",
       "3                 211     73  \n",
       "4                 298    -25  "
      ]
     },
     "metadata": {},
     "output_type": "display_data"
    },
    {
     "data": {
      "text/html": [
       "<div>\n",
       "<style scoped>\n",
       "    .dataframe tbody tr th:only-of-type {\n",
       "        vertical-align: middle;\n",
       "    }\n",
       "\n",
       "    .dataframe tbody tr th {\n",
       "        vertical-align: top;\n",
       "    }\n",
       "\n",
       "    .dataframe thead th {\n",
       "        text-align: right;\n",
       "    }\n",
       "</style>\n",
       "<table border=\"1\" class=\"dataframe\">\n",
       "  <thead>\n",
       "    <tr style=\"text-align: right;\">\n",
       "      <th></th>\n",
       "      <th>Team</th>\n",
       "      <th>Home Games</th>\n",
       "      <th>Home Total</th>\n",
       "      <th>Home Average</th>\n",
       "      <th>Road Games</th>\n",
       "      <th>Road Average</th>\n",
       "      <th>Overall Games</th>\n",
       "      <th>Overall Average</th>\n",
       "      <th>Year</th>\n",
       "      <th>Save Percentage</th>\n",
       "      <th>Penalty Minutes</th>\n",
       "      <th>Penalty Minutes Against</th>\n",
       "    </tr>\n",
       "  </thead>\n",
       "  <tbody>\n",
       "    <tr>\n",
       "      <th>0</th>\n",
       "      <td>Montreal Canadiens</td>\n",
       "      <td>41</td>\n",
       "      <td>824308</td>\n",
       "      <td>20105</td>\n",
       "      <td>41</td>\n",
       "      <td>16013</td>\n",
       "      <td>82</td>\n",
       "      <td>18059</td>\n",
       "      <td>2001</td>\n",
       "      <td>0.899</td>\n",
       "      <td>1020</td>\n",
       "      <td>1294</td>\n",
       "    </tr>\n",
       "    <tr>\n",
       "      <th>1</th>\n",
       "      <td>Detroit Red Wings</td>\n",
       "      <td>41</td>\n",
       "      <td>819795</td>\n",
       "      <td>19995</td>\n",
       "      <td>41</td>\n",
       "      <td>17889</td>\n",
       "      <td>82</td>\n",
       "      <td>18942</td>\n",
       "      <td>2001</td>\n",
       "      <td>0.909</td>\n",
       "      <td>1082</td>\n",
       "      <td>1072</td>\n",
       "    </tr>\n",
       "    <tr>\n",
       "      <th>2</th>\n",
       "      <td>Philadelphia Flyers</td>\n",
       "      <td>41</td>\n",
       "      <td>802595</td>\n",
       "      <td>19575</td>\n",
       "      <td>41</td>\n",
       "      <td>17182</td>\n",
       "      <td>82</td>\n",
       "      <td>18378</td>\n",
       "      <td>2001</td>\n",
       "      <td>0.903</td>\n",
       "      <td>1183</td>\n",
       "      <td>1332</td>\n",
       "    </tr>\n",
       "    <tr>\n",
       "      <th>3</th>\n",
       "      <td>St Louis Blues</td>\n",
       "      <td>41</td>\n",
       "      <td>800319</td>\n",
       "      <td>19519</td>\n",
       "      <td>41</td>\n",
       "      <td>16898</td>\n",
       "      <td>82</td>\n",
       "      <td>18209</td>\n",
       "      <td>2001</td>\n",
       "      <td>0.899</td>\n",
       "      <td>1345</td>\n",
       "      <td>1366</td>\n",
       "    </tr>\n",
       "    <tr>\n",
       "      <th>4</th>\n",
       "      <td>Toronto Maple Leafs</td>\n",
       "      <td>41</td>\n",
       "      <td>789567</td>\n",
       "      <td>19257</td>\n",
       "      <td>41</td>\n",
       "      <td>17172</td>\n",
       "      <td>82</td>\n",
       "      <td>18215</td>\n",
       "      <td>2001</td>\n",
       "      <td>0.908</td>\n",
       "      <td>1430</td>\n",
       "      <td>1243</td>\n",
       "    </tr>\n",
       "  </tbody>\n",
       "</table>\n",
       "</div>"
      ],
      "text/plain": [
       "                  Team  Home Games  Home Total  Home Average  Road Games  \\\n",
       "0   Montreal Canadiens          41      824308         20105          41   \n",
       "1    Detroit Red Wings          41      819795         19995          41   \n",
       "2  Philadelphia Flyers          41      802595         19575          41   \n",
       "3       St Louis Blues          41      800319         19519          41   \n",
       "4  Toronto Maple Leafs          41      789567         19257          41   \n",
       "\n",
       "   Road Average  Overall Games  Overall Average  Year  Save Percentage  \\\n",
       "0         16013             82            18059  2001            0.899   \n",
       "1         17889             82            18942  2001            0.909   \n",
       "2         17182             82            18378  2001            0.903   \n",
       "3         16898             82            18209  2001            0.899   \n",
       "4         17172             82            18215  2001            0.908   \n",
       "\n",
       "   Penalty Minutes  Penalty Minutes Against  \n",
       "0             1020                     1294  \n",
       "1             1082                     1072  \n",
       "2             1183                     1332  \n",
       "3             1345                     1366  \n",
       "4             1430                     1243  "
      ]
     },
     "metadata": {},
     "output_type": "display_data"
    }
   ],
   "source": [
    "display(df_Teams.head())\n",
    "display(df_ESPN.head())"
   ]
  },
  {
   "cell_type": "code",
   "execution_count": 15,
   "metadata": {},
   "outputs": [
    {
     "data": {
      "text/plain": [
       "(582, 9)"
      ]
     },
     "metadata": {},
     "output_type": "display_data"
    },
    {
     "data": {
      "text/plain": [
       "(290, 12)"
      ]
     },
     "metadata": {},
     "output_type": "display_data"
    }
   ],
   "source": [
    "display(df_Teams.shape)\n",
    "display(df_ESPN.shape)"
   ]
  },
  {
   "cell_type": "markdown",
   "metadata": {},
   "source": [
    "### Data Cleaning\n",
    "Antes de mais nada, iremos limpar e deixar nossos dados da melhor maneira possível para trabalhá-los.<br/>\n",
    "Vamos ter uma visão geral de algumas informações dos dados:"
   ]
  },
  {
   "cell_type": "code",
   "execution_count": 16,
   "metadata": {
    "scrolled": true
   },
   "outputs": [
    {
     "name": "stdout",
     "output_type": "stream",
     "text": [
      "<class 'pandas.core.frame.DataFrame'>\n",
      "RangeIndex: 582 entries, 0 to 581\n",
      "Data columns (total 9 columns):\n",
      "Team Name             582 non-null object\n",
      "Year                  582 non-null int64\n",
      "Wins                  582 non-null int64\n",
      "Losses                582 non-null int64\n",
      "OT Losses             358 non-null float64\n",
      "Win %                 582 non-null float64\n",
      "Goals For (GF)        582 non-null int64\n",
      "Goals Against (GA)    582 non-null int64\n",
      "+ / -                 582 non-null int64\n",
      "dtypes: float64(2), int64(6), object(1)\n",
      "memory usage: 41.0+ KB\n"
     ]
    }
   ],
   "source": [
    "df_Teams.info()"
   ]
  },
  {
   "cell_type": "code",
   "execution_count": 17,
   "metadata": {},
   "outputs": [
    {
     "data": {
      "text/plain": [
       "Team Name             False\n",
       "Year                  False\n",
       "Wins                  False\n",
       "Losses                False\n",
       "OT Losses              True\n",
       "Win %                 False\n",
       "Goals For (GF)        False\n",
       "Goals Against (GA)    False\n",
       "+ / -                 False\n",
       "dtype: bool"
      ]
     },
     "execution_count": 17,
     "metadata": {},
     "output_type": "execute_result"
    }
   ],
   "source": [
    "df_Teams.isna().any()"
   ]
  },
  {
   "cell_type": "code",
   "execution_count": 18,
   "metadata": {
    "scrolled": true
   },
   "outputs": [
    {
     "name": "stdout",
     "output_type": "stream",
     "text": [
      "<class 'pandas.core.frame.DataFrame'>\n",
      "Int64Index: 290 entries, 0 to 289\n",
      "Data columns (total 12 columns):\n",
      "Team                       290 non-null object\n",
      "Home Games                 290 non-null int64\n",
      "Home Total                 290 non-null int64\n",
      "Home Average               290 non-null int64\n",
      "Road Games                 290 non-null int64\n",
      "Road Average               290 non-null int64\n",
      "Overall Games              290 non-null int64\n",
      "Overall Average            290 non-null int64\n",
      "Year                       290 non-null int64\n",
      "Save Percentage            290 non-null float64\n",
      "Penalty Minutes            290 non-null int64\n",
      "Penalty Minutes Against    290 non-null int64\n",
      "dtypes: float64(1), int64(10), object(1)\n",
      "memory usage: 29.5+ KB\n"
     ]
    }
   ],
   "source": [
    "df_ESPN.info()"
   ]
  },
  {
   "cell_type": "code",
   "execution_count": 19,
   "metadata": {},
   "outputs": [
    {
     "data": {
      "text/plain": [
       "Team                       False\n",
       "Home Games                 False\n",
       "Home Total                 False\n",
       "Home Average               False\n",
       "Road Games                 False\n",
       "Road Average               False\n",
       "Overall Games              False\n",
       "Overall Average            False\n",
       "Year                       False\n",
       "Save Percentage            False\n",
       "Penalty Minutes            False\n",
       "Penalty Minutes Against    False\n",
       "dtype: bool"
      ]
     },
     "execution_count": 19,
     "metadata": {},
     "output_type": "execute_result"
    }
   ],
   "source": [
    "df_ESPN.isna().any()"
   ]
  },
  {
   "cell_type": "markdown",
   "metadata": {},
   "source": [
    "Das tabelas acima podemos tirar algumas conclusões:\n",
    "<ul>\n",
    "    <li>A única coluna que possui NaN é a <code>OT Losses</code> do dataset <code>df_Teams</code>, que podem ser substituídos por 0, pois no site original a ausência de valores denota 0 derrotas;</li>\n",
    "    <li>As demais colunas parecem estar corretas para podermos trabalhar.</li>\n",
    "</ul>"
   ]
  },
  {
   "cell_type": "code",
   "execution_count": 20,
   "metadata": {},
   "outputs": [],
   "source": [
    "# Tranformando os NaN em 0.0\n",
    "df_Teams = df_Teams.fillna(0)"
   ]
  },
  {
   "cell_type": "code",
   "execution_count": 21,
   "metadata": {
    "scrolled": true
   },
   "outputs": [
    {
     "data": {
      "text/html": [
       "<div>\n",
       "<style scoped>\n",
       "    .dataframe tbody tr th:only-of-type {\n",
       "        vertical-align: middle;\n",
       "    }\n",
       "\n",
       "    .dataframe tbody tr th {\n",
       "        vertical-align: top;\n",
       "    }\n",
       "\n",
       "    .dataframe thead th {\n",
       "        text-align: right;\n",
       "    }\n",
       "</style>\n",
       "<table border=\"1\" class=\"dataframe\">\n",
       "  <thead>\n",
       "    <tr style=\"text-align: right;\">\n",
       "      <th></th>\n",
       "      <th>Team Name</th>\n",
       "      <th>Year</th>\n",
       "      <th>Wins</th>\n",
       "      <th>Losses</th>\n",
       "      <th>OT Losses</th>\n",
       "      <th>Win %</th>\n",
       "      <th>Goals For (GF)</th>\n",
       "      <th>Goals Against (GA)</th>\n",
       "      <th>+ / -</th>\n",
       "    </tr>\n",
       "  </thead>\n",
       "  <tbody>\n",
       "    <tr>\n",
       "      <th>0</th>\n",
       "      <td>Boston Bruins</td>\n",
       "      <td>1990</td>\n",
       "      <td>44</td>\n",
       "      <td>24</td>\n",
       "      <td>0.0</td>\n",
       "      <td>0.550</td>\n",
       "      <td>299</td>\n",
       "      <td>264</td>\n",
       "      <td>35</td>\n",
       "    </tr>\n",
       "    <tr>\n",
       "      <th>1</th>\n",
       "      <td>Buffalo Sabres</td>\n",
       "      <td>1990</td>\n",
       "      <td>31</td>\n",
       "      <td>30</td>\n",
       "      <td>0.0</td>\n",
       "      <td>0.388</td>\n",
       "      <td>292</td>\n",
       "      <td>278</td>\n",
       "      <td>14</td>\n",
       "    </tr>\n",
       "    <tr>\n",
       "      <th>2</th>\n",
       "      <td>Calgary Flames</td>\n",
       "      <td>1990</td>\n",
       "      <td>46</td>\n",
       "      <td>26</td>\n",
       "      <td>0.0</td>\n",
       "      <td>0.575</td>\n",
       "      <td>344</td>\n",
       "      <td>263</td>\n",
       "      <td>81</td>\n",
       "    </tr>\n",
       "    <tr>\n",
       "      <th>3</th>\n",
       "      <td>Chicago Blackhawks</td>\n",
       "      <td>1990</td>\n",
       "      <td>49</td>\n",
       "      <td>23</td>\n",
       "      <td>0.0</td>\n",
       "      <td>0.613</td>\n",
       "      <td>284</td>\n",
       "      <td>211</td>\n",
       "      <td>73</td>\n",
       "    </tr>\n",
       "    <tr>\n",
       "      <th>4</th>\n",
       "      <td>Detroit Red Wings</td>\n",
       "      <td>1990</td>\n",
       "      <td>34</td>\n",
       "      <td>38</td>\n",
       "      <td>0.0</td>\n",
       "      <td>0.425</td>\n",
       "      <td>273</td>\n",
       "      <td>298</td>\n",
       "      <td>-25</td>\n",
       "    </tr>\n",
       "  </tbody>\n",
       "</table>\n",
       "</div>"
      ],
      "text/plain": [
       "            Team Name  Year  Wins  Losses  OT Losses  Win %  Goals For (GF)  \\\n",
       "0       Boston Bruins  1990    44      24        0.0  0.550             299   \n",
       "1      Buffalo Sabres  1990    31      30        0.0  0.388             292   \n",
       "2      Calgary Flames  1990    46      26        0.0  0.575             344   \n",
       "3  Chicago Blackhawks  1990    49      23        0.0  0.613             284   \n",
       "4   Detroit Red Wings  1990    34      38        0.0  0.425             273   \n",
       "\n",
       "   Goals Against (GA)  + / -  \n",
       "0                 264     35  \n",
       "1                 278     14  \n",
       "2                 263     81  \n",
       "3                 211     73  \n",
       "4                 298    -25  "
      ]
     },
     "execution_count": 21,
     "metadata": {},
     "output_type": "execute_result"
    }
   ],
   "source": [
    "df_Teams.head()"
   ]
  },
  {
   "cell_type": "markdown",
   "metadata": {},
   "source": [
    "Para finalizar, vamos apenas nos certificar da existência de _outliers_ no dataset."
   ]
  },
  {
   "cell_type": "code",
   "execution_count": 22,
   "metadata": {},
   "outputs": [
    {
     "data": {
      "text/html": [
       "<div>\n",
       "<style scoped>\n",
       "    .dataframe tbody tr th:only-of-type {\n",
       "        vertical-align: middle;\n",
       "    }\n",
       "\n",
       "    .dataframe tbody tr th {\n",
       "        vertical-align: top;\n",
       "    }\n",
       "\n",
       "    .dataframe thead th {\n",
       "        text-align: right;\n",
       "    }\n",
       "</style>\n",
       "<table border=\"1\" class=\"dataframe\">\n",
       "  <thead>\n",
       "    <tr style=\"text-align: right;\">\n",
       "      <th></th>\n",
       "      <th>Year</th>\n",
       "      <th>Wins</th>\n",
       "      <th>Losses</th>\n",
       "      <th>OT Losses</th>\n",
       "      <th>Win %</th>\n",
       "      <th>Goals For (GF)</th>\n",
       "      <th>Goals Against (GA)</th>\n",
       "      <th>+ / -</th>\n",
       "    </tr>\n",
       "  </thead>\n",
       "  <tbody>\n",
       "    <tr>\n",
       "      <th>count</th>\n",
       "      <td>582.000000</td>\n",
       "      <td>582.000000</td>\n",
       "      <td>582.000000</td>\n",
       "      <td>582.000000</td>\n",
       "      <td>582.000000</td>\n",
       "      <td>582.000000</td>\n",
       "      <td>582.000000</td>\n",
       "      <td>582.000000</td>\n",
       "    </tr>\n",
       "    <tr>\n",
       "      <th>mean</th>\n",
       "      <td>2000.907216</td>\n",
       "      <td>36.943299</td>\n",
       "      <td>32.353952</td>\n",
       "      <td>4.589347</td>\n",
       "      <td>0.458526</td>\n",
       "      <td>234.063574</td>\n",
       "      <td>234.063574</td>\n",
       "      <td>0.000000</td>\n",
       "    </tr>\n",
       "    <tr>\n",
       "      <th>std</th>\n",
       "      <td>6.330674</td>\n",
       "      <td>8.926081</td>\n",
       "      <td>8.411439</td>\n",
       "      <td>4.605402</td>\n",
       "      <td>0.102235</td>\n",
       "      <td>40.548915</td>\n",
       "      <td>42.510718</td>\n",
       "      <td>45.277458</td>\n",
       "    </tr>\n",
       "    <tr>\n",
       "      <th>min</th>\n",
       "      <td>1990.000000</td>\n",
       "      <td>9.000000</td>\n",
       "      <td>11.000000</td>\n",
       "      <td>0.000000</td>\n",
       "      <td>0.119000</td>\n",
       "      <td>115.000000</td>\n",
       "      <td>115.000000</td>\n",
       "      <td>-196.000000</td>\n",
       "    </tr>\n",
       "    <tr>\n",
       "      <th>25%</th>\n",
       "      <td>1996.000000</td>\n",
       "      <td>31.000000</td>\n",
       "      <td>27.000000</td>\n",
       "      <td>0.000000</td>\n",
       "      <td>0.390000</td>\n",
       "      <td>211.000000</td>\n",
       "      <td>207.000000</td>\n",
       "      <td>-27.000000</td>\n",
       "    </tr>\n",
       "    <tr>\n",
       "      <th>50%</th>\n",
       "      <td>2001.000000</td>\n",
       "      <td>38.000000</td>\n",
       "      <td>31.000000</td>\n",
       "      <td>4.000000</td>\n",
       "      <td>0.463000</td>\n",
       "      <td>231.000000</td>\n",
       "      <td>232.500000</td>\n",
       "      <td>4.000000</td>\n",
       "    </tr>\n",
       "    <tr>\n",
       "      <th>75%</th>\n",
       "      <td>2007.000000</td>\n",
       "      <td>43.000000</td>\n",
       "      <td>37.000000</td>\n",
       "      <td>8.000000</td>\n",
       "      <td>0.534000</td>\n",
       "      <td>254.000000</td>\n",
       "      <td>258.750000</td>\n",
       "      <td>31.000000</td>\n",
       "    </tr>\n",
       "    <tr>\n",
       "      <th>max</th>\n",
       "      <td>2011.000000</td>\n",
       "      <td>62.000000</td>\n",
       "      <td>71.000000</td>\n",
       "      <td>18.000000</td>\n",
       "      <td>0.756000</td>\n",
       "      <td>369.000000</td>\n",
       "      <td>414.000000</td>\n",
       "      <td>144.000000</td>\n",
       "    </tr>\n",
       "  </tbody>\n",
       "</table>\n",
       "</div>"
      ],
      "text/plain": [
       "              Year        Wins      Losses   OT Losses       Win %  \\\n",
       "count   582.000000  582.000000  582.000000  582.000000  582.000000   \n",
       "mean   2000.907216   36.943299   32.353952    4.589347    0.458526   \n",
       "std       6.330674    8.926081    8.411439    4.605402    0.102235   \n",
       "min    1990.000000    9.000000   11.000000    0.000000    0.119000   \n",
       "25%    1996.000000   31.000000   27.000000    0.000000    0.390000   \n",
       "50%    2001.000000   38.000000   31.000000    4.000000    0.463000   \n",
       "75%    2007.000000   43.000000   37.000000    8.000000    0.534000   \n",
       "max    2011.000000   62.000000   71.000000   18.000000    0.756000   \n",
       "\n",
       "       Goals For (GF)  Goals Against (GA)       + / -  \n",
       "count      582.000000          582.000000  582.000000  \n",
       "mean       234.063574          234.063574    0.000000  \n",
       "std         40.548915           42.510718   45.277458  \n",
       "min        115.000000          115.000000 -196.000000  \n",
       "25%        211.000000          207.000000  -27.000000  \n",
       "50%        231.000000          232.500000    4.000000  \n",
       "75%        254.000000          258.750000   31.000000  \n",
       "max        369.000000          414.000000  144.000000  "
      ]
     },
     "execution_count": 22,
     "metadata": {},
     "output_type": "execute_result"
    }
   ],
   "source": [
    "df_Teams.describe()"
   ]
  },
  {
   "cell_type": "code",
   "execution_count": 23,
   "metadata": {},
   "outputs": [
    {
     "data": {
      "text/html": [
       "<div>\n",
       "<style scoped>\n",
       "    .dataframe tbody tr th:only-of-type {\n",
       "        vertical-align: middle;\n",
       "    }\n",
       "\n",
       "    .dataframe tbody tr th {\n",
       "        vertical-align: top;\n",
       "    }\n",
       "\n",
       "    .dataframe thead th {\n",
       "        text-align: right;\n",
       "    }\n",
       "</style>\n",
       "<table border=\"1\" class=\"dataframe\">\n",
       "  <thead>\n",
       "    <tr style=\"text-align: right;\">\n",
       "      <th></th>\n",
       "      <th>Home Games</th>\n",
       "      <th>Home Total</th>\n",
       "      <th>Home Average</th>\n",
       "      <th>Road Games</th>\n",
       "      <th>Road Average</th>\n",
       "      <th>Overall Games</th>\n",
       "      <th>Overall Average</th>\n",
       "      <th>Year</th>\n",
       "      <th>Save Percentage</th>\n",
       "      <th>Penalty Minutes</th>\n",
       "      <th>Penalty Minutes Against</th>\n",
       "    </tr>\n",
       "  </thead>\n",
       "  <tbody>\n",
       "    <tr>\n",
       "      <th>count</th>\n",
       "      <td>290.000000</td>\n",
       "      <td>290.000000</td>\n",
       "      <td>290.000000</td>\n",
       "      <td>290.000000</td>\n",
       "      <td>290.000000</td>\n",
       "      <td>290.000000</td>\n",
       "      <td>290.000000</td>\n",
       "      <td>290.000000</td>\n",
       "      <td>290.000000</td>\n",
       "      <td>290.000000</td>\n",
       "      <td>290.000000</td>\n",
       "    </tr>\n",
       "    <tr>\n",
       "      <th>mean</th>\n",
       "      <td>40.962069</td>\n",
       "      <td>696862.827586</td>\n",
       "      <td>17012.513793</td>\n",
       "      <td>40.962069</td>\n",
       "      <td>16948.351724</td>\n",
       "      <td>81.924138</td>\n",
       "      <td>16980.437931</td>\n",
       "      <td>2006.100000</td>\n",
       "      <td>0.905528</td>\n",
       "      <td>1169.444828</td>\n",
       "      <td>1170.213793</td>\n",
       "    </tr>\n",
       "    <tr>\n",
       "      <th>std</th>\n",
       "      <td>0.224632</td>\n",
       "      <td>89095.441449</td>\n",
       "      <td>2177.902099</td>\n",
       "      <td>0.224632</td>\n",
       "      <td>589.707740</td>\n",
       "      <td>0.425531</td>\n",
       "      <td>1191.551650</td>\n",
       "      <td>3.305704</td>\n",
       "      <td>0.009384</td>\n",
       "      <td>194.635349</td>\n",
       "      <td>173.543397</td>\n",
       "    </tr>\n",
       "    <tr>\n",
       "      <th>min</th>\n",
       "      <td>40.000000</td>\n",
       "      <td>453456.000000</td>\n",
       "      <td>11059.000000</td>\n",
       "      <td>40.000000</td>\n",
       "      <td>15575.000000</td>\n",
       "      <td>80.000000</td>\n",
       "      <td>14026.000000</td>\n",
       "      <td>2001.000000</td>\n",
       "      <td>0.884000</td>\n",
       "      <td>710.000000</td>\n",
       "      <td>696.000000</td>\n",
       "    </tr>\n",
       "    <tr>\n",
       "      <th>25%</th>\n",
       "      <td>41.000000</td>\n",
       "      <td>632779.750000</td>\n",
       "      <td>15433.000000</td>\n",
       "      <td>41.000000</td>\n",
       "      <td>16567.500000</td>\n",
       "      <td>82.000000</td>\n",
       "      <td>16096.000000</td>\n",
       "      <td>2003.000000</td>\n",
       "      <td>0.899250</td>\n",
       "      <td>1038.250000</td>\n",
       "      <td>1055.500000</td>\n",
       "    </tr>\n",
       "    <tr>\n",
       "      <th>50%</th>\n",
       "      <td>41.000000</td>\n",
       "      <td>703766.000000</td>\n",
       "      <td>17210.500000</td>\n",
       "      <td>41.000000</td>\n",
       "      <td>16956.500000</td>\n",
       "      <td>82.000000</td>\n",
       "      <td>17018.500000</td>\n",
       "      <td>2006.500000</td>\n",
       "      <td>0.906000</td>\n",
       "      <td>1170.500000</td>\n",
       "      <td>1165.000000</td>\n",
       "    </tr>\n",
       "    <tr>\n",
       "      <th>75%</th>\n",
       "      <td>41.000000</td>\n",
       "      <td>760915.000000</td>\n",
       "      <td>18566.000000</td>\n",
       "      <td>41.000000</td>\n",
       "      <td>17317.000000</td>\n",
       "      <td>82.000000</td>\n",
       "      <td>17878.250000</td>\n",
       "      <td>2009.000000</td>\n",
       "      <td>0.913000</td>\n",
       "      <td>1286.500000</td>\n",
       "      <td>1283.000000</td>\n",
       "    </tr>\n",
       "    <tr>\n",
       "      <th>max</th>\n",
       "      <td>42.000000</td>\n",
       "      <td>912155.000000</td>\n",
       "      <td>22247.000000</td>\n",
       "      <td>42.000000</td>\n",
       "      <td>19002.000000</td>\n",
       "      <td>84.000000</td>\n",
       "      <td>19896.000000</td>\n",
       "      <td>2011.000000</td>\n",
       "      <td>0.930000</td>\n",
       "      <td>1994.000000</td>\n",
       "      <td>1818.000000</td>\n",
       "    </tr>\n",
       "  </tbody>\n",
       "</table>\n",
       "</div>"
      ],
      "text/plain": [
       "       Home Games     Home Total  Home Average  Road Games  Road Average  \\\n",
       "count  290.000000     290.000000    290.000000  290.000000    290.000000   \n",
       "mean    40.962069  696862.827586  17012.513793   40.962069  16948.351724   \n",
       "std      0.224632   89095.441449   2177.902099    0.224632    589.707740   \n",
       "min     40.000000  453456.000000  11059.000000   40.000000  15575.000000   \n",
       "25%     41.000000  632779.750000  15433.000000   41.000000  16567.500000   \n",
       "50%     41.000000  703766.000000  17210.500000   41.000000  16956.500000   \n",
       "75%     41.000000  760915.000000  18566.000000   41.000000  17317.000000   \n",
       "max     42.000000  912155.000000  22247.000000   42.000000  19002.000000   \n",
       "\n",
       "       Overall Games  Overall Average         Year  Save Percentage  \\\n",
       "count     290.000000       290.000000   290.000000       290.000000   \n",
       "mean       81.924138     16980.437931  2006.100000         0.905528   \n",
       "std         0.425531      1191.551650     3.305704         0.009384   \n",
       "min        80.000000     14026.000000  2001.000000         0.884000   \n",
       "25%        82.000000     16096.000000  2003.000000         0.899250   \n",
       "50%        82.000000     17018.500000  2006.500000         0.906000   \n",
       "75%        82.000000     17878.250000  2009.000000         0.913000   \n",
       "max        84.000000     19896.000000  2011.000000         0.930000   \n",
       "\n",
       "       Penalty Minutes  Penalty Minutes Against  \n",
       "count       290.000000               290.000000  \n",
       "mean       1169.444828              1170.213793  \n",
       "std         194.635349               173.543397  \n",
       "min         710.000000               696.000000  \n",
       "25%        1038.250000              1055.500000  \n",
       "50%        1170.500000              1165.000000  \n",
       "75%        1286.500000              1283.000000  \n",
       "max        1994.000000              1818.000000  "
      ]
     },
     "execution_count": 23,
     "metadata": {},
     "output_type": "execute_result"
    }
   ],
   "source": [
    "df_ESPN.describe()"
   ]
  },
  {
   "cell_type": "markdown",
   "metadata": {},
   "source": [
    "Analisando as variâncias dos datasets, percebemos que nenhuma coluna possui algum valor muito discrepante (o que causaria uma alta variância). Com isso já podemos começar a analisar de fato nossos dados."
   ]
  },
  {
   "cell_type": "markdown",
   "metadata": {},
   "source": [
    "### Qual time é o mais vencedor no período de 1990 a 2011?\n",
    "Qual time possui maior quantidade de vitórias únicas dentro do período de 1990 a 2011?"
   ]
  },
  {
   "cell_type": "code",
   "execution_count": 28,
   "metadata": {},
   "outputs": [
    {
     "data": {
      "text/html": [
       "<div>\n",
       "<style scoped>\n",
       "    .dataframe tbody tr th:only-of-type {\n",
       "        vertical-align: middle;\n",
       "    }\n",
       "\n",
       "    .dataframe tbody tr th {\n",
       "        vertical-align: top;\n",
       "    }\n",
       "\n",
       "    .dataframe thead th {\n",
       "        text-align: right;\n",
       "    }\n",
       "</style>\n",
       "<table border=\"1\" class=\"dataframe\">\n",
       "  <thead>\n",
       "    <tr style=\"text-align: right;\">\n",
       "      <th></th>\n",
       "      <th>Team Name</th>\n",
       "      <th>Wins</th>\n",
       "    </tr>\n",
       "  </thead>\n",
       "  <tbody>\n",
       "    <tr>\n",
       "      <th>10</th>\n",
       "      <td>Detroit Red Wings</td>\n",
       "      <td>986</td>\n",
       "    </tr>\n",
       "    <tr>\n",
       "      <th>20</th>\n",
       "      <td>New Jersey Devils</td>\n",
       "      <td>905</td>\n",
       "    </tr>\n",
       "    <tr>\n",
       "      <th>26</th>\n",
       "      <td>Pittsburgh Penguins</td>\n",
       "      <td>839</td>\n",
       "    </tr>\n",
       "    <tr>\n",
       "      <th>24</th>\n",
       "      <td>Philadelphia Flyers</td>\n",
       "      <td>836</td>\n",
       "    </tr>\n",
       "    <tr>\n",
       "      <th>2</th>\n",
       "      <td>Boston Bruins</td>\n",
       "      <td>816</td>\n",
       "    </tr>\n",
       "  </tbody>\n",
       "</table>\n",
       "</div>"
      ],
      "text/plain": [
       "              Team Name  Wins\n",
       "10    Detroit Red Wings   986\n",
       "20    New Jersey Devils   905\n",
       "26  Pittsburgh Penguins   839\n",
       "24  Philadelphia Flyers   836\n",
       "2         Boston Bruins   816"
      ]
     },
     "execution_count": 28,
     "metadata": {},
     "output_type": "execute_result"
    }
   ],
   "source": [
    "import numpy as np\n",
    "\n",
    "vitorias_por_time = df_Teams.groupby('Team Name', as_index=False)['Wins'].sum()\n",
    "vitorias_por_time.nlargest(5, 'Wins')"
   ]
  },
  {
   "cell_type": "code",
   "execution_count": 29,
   "metadata": {},
   "outputs": [
    {
     "name": "stdout",
     "output_type": "stream",
     "text": [
      "Média geral de vitórias únicas: 614.3142857142857\n",
      "Vitórias do Detroit Red Wings: 986\n"
     ]
    },
    {
     "data": {
      "image/png": "[encoded data removed]",
      "text/plain": [
       "<Figure size 432x288 with 1 Axes>"
      ]
     },
     "metadata": {},
     "output_type": "display_data"
    }
   ],
   "source": [
    "# Cria gráfico da distribuição das vitórias\n",
    "ax = sns.distplot(vitorias_por_time['Wins'])\n",
    "\n",
    "media_geral_vit = vitorias_por_time['Wins'].mean()\n",
    "vit_detroit = vitorias_por_time['Wins'].max()\n",
    "\n",
    "print(\"Média geral de vitórias únicas: \" + str(media_geral_vit))\n",
    "print(\"Vitórias do Detroit Red Wings: \" + str(vit_detroit))\n",
    "\n",
    "# Cria linhas auxiliares do comparativo da média de vitórias e do time mais vitorioso\n",
    "ax.axvline(media_geral_vit, c=\"mediumseagreen\", linestyle=\"dashdot\", label=\"Média geral\")\n",
    "ax.axvline(vit_detroit, c=\"midnightblue\", label= \"Vitórias do Detroit Red Wings\")\n",
    "ax.legend(loc='upper left')\n",
    "ax.get_yaxis().set_visible(False)\n",
    "plt.title(\"Distribuição de vitórias únicas\")\n",
    "plt.show()"
   ]
  },
  {
   "cell_type": "markdown",
   "metadata": {},
   "source": [
    "#### Mas... Será que o time com mais vitórias é de fato o mais vitorioso? <br/>\n",
    "Para isso, iremos avaliar a porcentagem de vitória dos times!"
   ]
  },
  {
   "cell_type": "code",
   "execution_count": 30,
   "metadata": {
    "scrolled": true
   },
   "outputs": [
    {
     "data": {
      "text/html": [
       "<div>\n",
       "<style scoped>\n",
       "    .dataframe tbody tr th:only-of-type {\n",
       "        vertical-align: middle;\n",
       "    }\n",
       "\n",
       "    .dataframe tbody tr th {\n",
       "        vertical-align: top;\n",
       "    }\n",
       "\n",
       "    .dataframe thead th {\n",
       "        text-align: right;\n",
       "    }\n",
       "</style>\n",
       "<table border=\"1\" class=\"dataframe\">\n",
       "  <thead>\n",
       "    <tr style=\"text-align: right;\">\n",
       "      <th></th>\n",
       "      <th>Team Name</th>\n",
       "      <th>Win %</th>\n",
       "    </tr>\n",
       "  </thead>\n",
       "  <tbody>\n",
       "    <tr>\n",
       "      <th>10</th>\n",
       "      <td>Detroit Red Wings</td>\n",
       "      <td>0.586000</td>\n",
       "    </tr>\n",
       "    <tr>\n",
       "      <th>20</th>\n",
       "      <td>New Jersey Devils</td>\n",
       "      <td>0.534333</td>\n",
       "    </tr>\n",
       "    <tr>\n",
       "      <th>0</th>\n",
       "      <td>Anaheim Ducks</td>\n",
       "      <td>0.522333</td>\n",
       "    </tr>\n",
       "    <tr>\n",
       "      <th>9</th>\n",
       "      <td>Dallas Stars</td>\n",
       "      <td>0.516889</td>\n",
       "    </tr>\n",
       "    <tr>\n",
       "      <th>7</th>\n",
       "      <td>Colorado Avalanche</td>\n",
       "      <td>0.516062</td>\n",
       "    </tr>\n",
       "  </tbody>\n",
       "</table>\n",
       "</div>"
      ],
      "text/plain": [
       "             Team Name     Win %\n",
       "10   Detroit Red Wings  0.586000\n",
       "20   New Jersey Devils  0.534333\n",
       "0        Anaheim Ducks  0.522333\n",
       "9         Dallas Stars  0.516889\n",
       "7   Colorado Avalanche  0.516062"
      ]
     },
     "execution_count": 30,
     "metadata": {},
     "output_type": "execute_result"
    }
   ],
   "source": [
    "pct_vitorias_por_time = df_Teams.groupby('Team Name', as_index=False)['Win %'].mean()\n",
    "pct_vitorias_por_time.nlargest(5, 'Win %')"
   ]
  },
  {
   "cell_type": "code",
   "execution_count": 31,
   "metadata": {},
   "outputs": [
    {
     "name": "stdout",
     "output_type": "stream",
     "text": [
      "Média geral de % de vitórias: 0.4509727558051806\n",
      "% de vitórias do Detroit Red Wings: 0.5860000000000001\n"
     ]
    },
    {
     "data": {
      "image/png": "[encoded data removed]",
      "text/plain": [
       "<Figure size 432x288 with 1 Axes>"
      ]
     },
     "metadata": {},
     "output_type": "display_data"
    }
   ],
   "source": [
    "# Cria gráfico da distribuição das % de vitórias\n",
    "ax = sns.distplot(pct_vitorias_por_time['Win %'])\n",
    "\n",
    "pct_media_geral_vit = pct_vitorias_por_time['Win %'].mean()\n",
    "pct_vit_detroit = pct_vitorias_por_time['Win %'].max()\n",
    "\n",
    "print(\"Média geral de % de vitórias: \" + str(pct_media_geral_vit))\n",
    "print(\"% de vitórias do Detroit Red Wings: \" + str(pct_vit_detroit))\n",
    "\n",
    "# Cria linhas auxiliares do comparativo da média de vitórias e do time mais vitorioso\n",
    "ax.axvline(pct_media_geral_vit, c=\"mediumseagreen\", linestyle=\"dashdot\", label=\"Média geral\")\n",
    "ax.axvline(pct_vit_detroit, c=\"midnightblue\", label= \"Vitórias do Detroit Red Wings\")\n",
    "ax.legend(loc='upper left')\n",
    "ax.get_yaxis().set_visible(False)\n",
    "plt.title(\"Distribuição de % de vitórias\")\n",
    "plt.show()"
   ]
  },
  {
   "cell_type": "markdown",
   "metadata": {},
   "source": [
    "De fato, **Detroit Red Wings** domina o Hockey no Gelo! Tanto em vitórias únicas, quanto em aproveitamento dos jogos, o time é UMA MÁQUINA! Vamos agora então fazer uma análise rápida do time **Anaheim Ducks** para tentar entender sua boa porcentagem de vitórias, dado que ele nem figura entre os times com mais vitórias únicas."
   ]
  },
  {
   "cell_type": "code",
   "execution_count": 32,
   "metadata": {},
   "outputs": [
    {
     "data": {
      "text/plain": [
       "Team Name    Anaheim Ducks\n",
       "Wins                   257\n",
       "Name: 0, dtype: object"
      ]
     },
     "metadata": {},
     "output_type": "display_data"
    },
    {
     "data": {
      "text/html": [
       "<div>\n",
       "<style scoped>\n",
       "    .dataframe tbody tr th:only-of-type {\n",
       "        vertical-align: middle;\n",
       "    }\n",
       "\n",
       "    .dataframe tbody tr th {\n",
       "        vertical-align: top;\n",
       "    }\n",
       "\n",
       "    .dataframe thead th {\n",
       "        text-align: right;\n",
       "    }\n",
       "</style>\n",
       "<table border=\"1\" class=\"dataframe\">\n",
       "  <thead>\n",
       "    <tr style=\"text-align: right;\">\n",
       "      <th></th>\n",
       "      <th>Team Name</th>\n",
       "      <th>Year</th>\n",
       "      <th>Wins</th>\n",
       "      <th>Losses</th>\n",
       "      <th>OT Losses</th>\n",
       "      <th>Win %</th>\n",
       "      <th>Goals For (GF)</th>\n",
       "      <th>Goals Against (GA)</th>\n",
       "      <th>+ / -</th>\n",
       "    </tr>\n",
       "  </thead>\n",
       "  <tbody>\n",
       "    <tr>\n",
       "      <th>402</th>\n",
       "      <td>Anaheim Ducks</td>\n",
       "      <td>2006</td>\n",
       "      <td>48</td>\n",
       "      <td>20</td>\n",
       "      <td>14.0</td>\n",
       "      <td>0.585</td>\n",
       "      <td>258</td>\n",
       "      <td>208</td>\n",
       "      <td>50</td>\n",
       "    </tr>\n",
       "    <tr>\n",
       "      <th>432</th>\n",
       "      <td>Anaheim Ducks</td>\n",
       "      <td>2007</td>\n",
       "      <td>47</td>\n",
       "      <td>27</td>\n",
       "      <td>8.0</td>\n",
       "      <td>0.573</td>\n",
       "      <td>205</td>\n",
       "      <td>191</td>\n",
       "      <td>14</td>\n",
       "    </tr>\n",
       "    <tr>\n",
       "      <th>462</th>\n",
       "      <td>Anaheim Ducks</td>\n",
       "      <td>2008</td>\n",
       "      <td>42</td>\n",
       "      <td>33</td>\n",
       "      <td>7.0</td>\n",
       "      <td>0.512</td>\n",
       "      <td>245</td>\n",
       "      <td>238</td>\n",
       "      <td>7</td>\n",
       "    </tr>\n",
       "    <tr>\n",
       "      <th>492</th>\n",
       "      <td>Anaheim Ducks</td>\n",
       "      <td>2009</td>\n",
       "      <td>39</td>\n",
       "      <td>32</td>\n",
       "      <td>11.0</td>\n",
       "      <td>0.476</td>\n",
       "      <td>238</td>\n",
       "      <td>251</td>\n",
       "      <td>-13</td>\n",
       "    </tr>\n",
       "    <tr>\n",
       "      <th>522</th>\n",
       "      <td>Anaheim Ducks</td>\n",
       "      <td>2010</td>\n",
       "      <td>47</td>\n",
       "      <td>30</td>\n",
       "      <td>5.0</td>\n",
       "      <td>0.573</td>\n",
       "      <td>239</td>\n",
       "      <td>235</td>\n",
       "      <td>4</td>\n",
       "    </tr>\n",
       "    <tr>\n",
       "      <th>552</th>\n",
       "      <td>Anaheim Ducks</td>\n",
       "      <td>2011</td>\n",
       "      <td>34</td>\n",
       "      <td>36</td>\n",
       "      <td>12.0</td>\n",
       "      <td>0.415</td>\n",
       "      <td>204</td>\n",
       "      <td>231</td>\n",
       "      <td>-27</td>\n",
       "    </tr>\n",
       "  </tbody>\n",
       "</table>\n",
       "</div>"
      ],
      "text/plain": [
       "         Team Name  Year  Wins  Losses  OT Losses  Win %  Goals For (GF)  \\\n",
       "402  Anaheim Ducks  2006    48      20       14.0  0.585             258   \n",
       "432  Anaheim Ducks  2007    47      27        8.0  0.573             205   \n",
       "462  Anaheim Ducks  2008    42      33        7.0  0.512             245   \n",
       "492  Anaheim Ducks  2009    39      32       11.0  0.476             238   \n",
       "522  Anaheim Ducks  2010    47      30        5.0  0.573             239   \n",
       "552  Anaheim Ducks  2011    34      36       12.0  0.415             204   \n",
       "\n",
       "     Goals Against (GA)  + / -  \n",
       "402                 208     50  \n",
       "432                 191     14  \n",
       "462                 238      7  \n",
       "492                 251    -13  \n",
       "522                 235      4  \n",
       "552                 231    -27  "
      ]
     },
     "metadata": {},
     "output_type": "display_data"
    }
   ],
   "source": [
    "# Vitórias únicas do Anaheim Ducks\n",
    "vitorias_anaheim = df_Teams.groupby('Team Name', as_index=False)['Wins'].sum().loc[0]\n",
    "display(vitorias_anaheim)\n",
    "\n",
    "# Visualiza todas as passagens do time pela liga\n",
    "display(df_Teams[df_Teams['Team Name'] == 'Anaheim Ducks'])"
   ]
  },
  {
   "cell_type": "markdown",
   "metadata": {},
   "source": [
    "A partir do terceiro time, percebemos que mais vitórias únicas não se traduzem em um melhor aproveitamento. _Anaheim Ducks_ por exemplo, não possui tantas vitórias quanto Detroit Red Wings, principalmente pelo seu pouco tempo dentro da liga (entrou para a liga de  Hockey em 2006), mas teve bons desempenhos ao longo dos anos que participou do Hockey no Gelo."
   ]
  },
  {
   "cell_type": "markdown",
   "metadata": {},
   "source": [
    "### O torna um time UMA MÁQUINA dentro do gelo?\n",
    "Torcida? Um bom ataque? Uma defesa robusta? Vamos tentar investigar o que leva um time ao auge nas pistas. Para isso utilizaremos ambos os datasets para considerarmos também a influência da torcida, jogos em casa, penalidades sofrida, entre outras _features_ que o dataset da ESPN nos fornece."
   ]
  },
  {
   "cell_type": "code",
   "execution_count": 33,
   "metadata": {
    "scrolled": true
   },
   "outputs": [
    {
     "data": {
      "text/html": [
       "<div>\n",
       "<style scoped>\n",
       "    .dataframe tbody tr th:only-of-type {\n",
       "        vertical-align: middle;\n",
       "    }\n",
       "\n",
       "    .dataframe tbody tr th {\n",
       "        vertical-align: top;\n",
       "    }\n",
       "\n",
       "    .dataframe thead th {\n",
       "        text-align: right;\n",
       "    }\n",
       "</style>\n",
       "<table border=\"1\" class=\"dataframe\">\n",
       "  <thead>\n",
       "    <tr style=\"text-align: right;\">\n",
       "      <th></th>\n",
       "      <th>Team</th>\n",
       "      <th>Home Games</th>\n",
       "      <th>Home Total</th>\n",
       "      <th>Home Average</th>\n",
       "      <th>Road Games</th>\n",
       "      <th>Road Average</th>\n",
       "      <th>Overall Games</th>\n",
       "      <th>Overall Average</th>\n",
       "      <th>Year</th>\n",
       "      <th>Save Percentage</th>\n",
       "      <th>Penalty Minutes</th>\n",
       "      <th>Penalty Minutes Against</th>\n",
       "      <th>Wins</th>\n",
       "      <th>Losses</th>\n",
       "      <th>OT Losses</th>\n",
       "      <th>Win %</th>\n",
       "      <th>Goals For (GF)</th>\n",
       "      <th>Goals Against (GA)</th>\n",
       "      <th>+ / -</th>\n",
       "    </tr>\n",
       "  </thead>\n",
       "  <tbody>\n",
       "    <tr>\n",
       "      <th>0</th>\n",
       "      <td>Montreal Canadiens</td>\n",
       "      <td>41</td>\n",
       "      <td>824308</td>\n",
       "      <td>20105</td>\n",
       "      <td>41</td>\n",
       "      <td>16013</td>\n",
       "      <td>82</td>\n",
       "      <td>18059</td>\n",
       "      <td>2001</td>\n",
       "      <td>0.899</td>\n",
       "      <td>1020</td>\n",
       "      <td>1294</td>\n",
       "      <td>36</td>\n",
       "      <td>31</td>\n",
       "      <td>3.0</td>\n",
       "      <td>0.439</td>\n",
       "      <td>207</td>\n",
       "      <td>209</td>\n",
       "      <td>-2</td>\n",
       "    </tr>\n",
       "    <tr>\n",
       "      <th>1</th>\n",
       "      <td>Detroit Red Wings</td>\n",
       "      <td>41</td>\n",
       "      <td>819795</td>\n",
       "      <td>19995</td>\n",
       "      <td>41</td>\n",
       "      <td>17889</td>\n",
       "      <td>82</td>\n",
       "      <td>18942</td>\n",
       "      <td>2001</td>\n",
       "      <td>0.909</td>\n",
       "      <td>1082</td>\n",
       "      <td>1072</td>\n",
       "      <td>51</td>\n",
       "      <td>17</td>\n",
       "      <td>4.0</td>\n",
       "      <td>0.622</td>\n",
       "      <td>251</td>\n",
       "      <td>187</td>\n",
       "      <td>64</td>\n",
       "    </tr>\n",
       "    <tr>\n",
       "      <th>2</th>\n",
       "      <td>Philadelphia Flyers</td>\n",
       "      <td>41</td>\n",
       "      <td>802595</td>\n",
       "      <td>19575</td>\n",
       "      <td>41</td>\n",
       "      <td>17182</td>\n",
       "      <td>82</td>\n",
       "      <td>18378</td>\n",
       "      <td>2001</td>\n",
       "      <td>0.903</td>\n",
       "      <td>1183</td>\n",
       "      <td>1332</td>\n",
       "      <td>42</td>\n",
       "      <td>27</td>\n",
       "      <td>3.0</td>\n",
       "      <td>0.512</td>\n",
       "      <td>234</td>\n",
       "      <td>192</td>\n",
       "      <td>42</td>\n",
       "    </tr>\n",
       "    <tr>\n",
       "      <th>3</th>\n",
       "      <td>Toronto Maple Leafs</td>\n",
       "      <td>41</td>\n",
       "      <td>789567</td>\n",
       "      <td>19257</td>\n",
       "      <td>41</td>\n",
       "      <td>17172</td>\n",
       "      <td>82</td>\n",
       "      <td>18215</td>\n",
       "      <td>2001</td>\n",
       "      <td>0.908</td>\n",
       "      <td>1430</td>\n",
       "      <td>1243</td>\n",
       "      <td>43</td>\n",
       "      <td>25</td>\n",
       "      <td>4.0</td>\n",
       "      <td>0.524</td>\n",
       "      <td>249</td>\n",
       "      <td>207</td>\n",
       "      <td>42</td>\n",
       "    </tr>\n",
       "    <tr>\n",
       "      <th>4</th>\n",
       "      <td>New York Rangers</td>\n",
       "      <td>41</td>\n",
       "      <td>746200</td>\n",
       "      <td>18200</td>\n",
       "      <td>41</td>\n",
       "      <td>17628</td>\n",
       "      <td>82</td>\n",
       "      <td>17914</td>\n",
       "      <td>2001</td>\n",
       "      <td>0.887</td>\n",
       "      <td>1522</td>\n",
       "      <td>1395</td>\n",
       "      <td>36</td>\n",
       "      <td>38</td>\n",
       "      <td>4.0</td>\n",
       "      <td>0.439</td>\n",
       "      <td>227</td>\n",
       "      <td>258</td>\n",
       "      <td>-31</td>\n",
       "    </tr>\n",
       "  </tbody>\n",
       "</table>\n",
       "</div>"
      ],
      "text/plain": [
       "                  Team  Home Games  Home Total  Home Average  Road Games  \\\n",
       "0   Montreal Canadiens          41      824308         20105          41   \n",
       "1    Detroit Red Wings          41      819795         19995          41   \n",
       "2  Philadelphia Flyers          41      802595         19575          41   \n",
       "3  Toronto Maple Leafs          41      789567         19257          41   \n",
       "4     New York Rangers          41      746200         18200          41   \n",
       "\n",
       "   Road Average  Overall Games  Overall Average  Year  Save Percentage  \\\n",
       "0         16013             82            18059  2001            0.899   \n",
       "1         17889             82            18942  2001            0.909   \n",
       "2         17182             82            18378  2001            0.903   \n",
       "3         17172             82            18215  2001            0.908   \n",
       "4         17628             82            17914  2001            0.887   \n",
       "\n",
       "   Penalty Minutes  Penalty Minutes Against  Wins  Losses  OT Losses  Win %  \\\n",
       "0             1020                     1294    36      31        3.0  0.439   \n",
       "1             1082                     1072    51      17        4.0  0.622   \n",
       "2             1183                     1332    42      27        3.0  0.512   \n",
       "3             1430                     1243    43      25        4.0  0.524   \n",
       "4             1522                     1395    36      38        4.0  0.439   \n",
       "\n",
       "   Goals For (GF)  Goals Against (GA)  + / -  \n",
       "0             207                 209     -2  \n",
       "1             251                 187     64  \n",
       "2             234                 192     42  \n",
       "3             249                 207     42  \n",
       "4             227                 258    -31  "
      ]
     },
     "execution_count": 33,
     "metadata": {},
     "output_type": "execute_result"
    }
   ],
   "source": [
    "# Dando merge nos dois dataframes para trabalhar com alguns dados de ambos\n",
    "merged_df = pd.merge(df_ESPN, df_Teams.rename(columns={\"Team Name\": \"Team\"}), on=['Year', 'Team'])\n",
    "merged_df.head()"
   ]
  },
  {
   "cell_type": "code",
   "execution_count": 34,
   "metadata": {},
   "outputs": [
    {
     "data": {
      "text/plain": [
       "(237, 19)"
      ]
     },
     "execution_count": 34,
     "metadata": {},
     "output_type": "execute_result"
    }
   ],
   "source": [
    "merged_df.shape"
   ]
  },
  {
   "cell_type": "markdown",
   "metadata": {},
   "source": [
    "Aqui percebemos que mais da metade das linhas do primeiro dataframe foi perdido, pois os dados do dataset da ESPN trabalham com dados apenas a partir de 2001. Além disso, como alguns times podem ter nomes diferentes em ambas as tabelas temos ainda menos dados do que o segundo dataset. Iremos lidar também com as duas tabelas separadas para tentar amenizar a redução na nossa amostragem."
   ]
  },
  {
   "cell_type": "code",
   "execution_count": 35,
   "metadata": {},
   "outputs": [
    {
     "data": {
      "image/png": "[encoded data removed]",
      "text/plain": [
       "<Figure size 936x936 with 2 Axes>"
      ]
     },
     "metadata": {},
     "output_type": "display_data"
    }
   ],
   "source": [
    "# define um triângulo matricial superior para não plotar os dados repidos\n",
    "mask = np.triu(np.ones_like(merged_df.corr(), dtype=np.bool))\n",
    "\n",
    "plt.figure(figsize=(13,13))\n",
    "\n",
    "# Plota heatmap dos dados\n",
    "sns.heatmap(merged_df.corr(), mask=mask, square = True, annot=True, vmin=-1, vmax=1, cmap='autumn')\n",
    "plt.show()"
   ]
  },
  {
   "cell_type": "markdown",
   "metadata": {},
   "source": [
    "Analisando o heatmap, percebemos alguns fatores interessantes sobre a taxa de vitórias de um time:\n",
    "<ul>\n",
    "    <li>A porcentagem de vitória de um time (Win %)está altamente ligada a quantos gols que ele realiza (Goals For);</li>\n",
    "    <li>Além disso, um bom balanço entre gols marcados e gols sofridos (+/-) parece ser ainda mais importante pro bom desempenho de uma seleção!;</li>\n",
    "</ul>\n",
    "Vamos ver como esses dados se traduzem nos gráficos:"
   ]
  },
  {
   "cell_type": "code",
   "execution_count": 36,
   "metadata": {},
   "outputs": [
    {
     "data": {
      "image/png": "[encoded data removed]",
      "text/plain": [
       "<Figure size 1080x252 with 2 Axes>"
      ]
     },
     "metadata": {},
     "output_type": "display_data"
    }
   ],
   "source": [
    "plt.figure(figsize=(15,3.5))\n",
    "\n",
    "#Plota gráfico 1\n",
    "plt.subplot(121)\n",
    "sns.regplot(x ='Win %', y ='Goals For (GF)', data = merged_df, line_kws={'color':'darkblue'}, scatter_kws={'alpha':0.5,'color':'yellow'})\n",
    "plt.title(\"Correlação entre porcentagem de vitórias e gols marcados\")\n",
    "\n",
    "#Plota gráfico 2\n",
    "plt.subplot(122)\n",
    "sns.regplot(x ='Win %', y ='+ / -', data = merged_df, line_kws={'color':'darkblue'}, scatter_kws={'alpha':0.5,'color':'yellow'} )\n",
    "plt.title(\"Correlação entre porcentagem de vitórias e qt gols a mais marcados\")\n",
    "plt.show()"
   ]
  },
  {
   "cell_type": "markdown",
   "metadata": {},
   "source": [
    "Bom... Mas até aí tudo dentro do esperado: Um time com bom ataque e com um bom equilíbrio em ataque e defesa se deu bem no campeonato. Percebemos analisando as correlações da porcentagem de vitórias que a média de torcedores nos jogos e, em especial, a média de torcedores em jogos fora de casa tem uma ***correlação positiva de cerca de 35%***! <br>\n",
    "Além disso, a média de torcedores possui uma influência ainda maior na quantidade de gols marcados, possuindo ***correlação positiva de cerca de 41%.*** "
   ]
  },
  {
   "cell_type": "code",
   "execution_count": 37,
   "metadata": {
    "scrolled": true
   },
   "outputs": [
    {
     "data": {
      "image/png": "[encoded data removed]",
      "text/plain": [
       "<Figure size 648x324 with 2 Axes>"
      ]
     },
     "metadata": {},
     "output_type": "display_data"
    }
   ],
   "source": [
    "plt.figure(figsize=(9,4.5))\n",
    "\n",
    "# Cria o primeiro subplot\n",
    "plt.subplot(2, 1, 1)\n",
    "sns.regplot('Overall Average', 'Win %', data=merged_df, marker=\"+\", line_kws={'color':'black'}, scatter_kws={'color':'lightblue'})\n",
    "plt.xlabel(None)\n",
    "plt.title('Influência da média de torcedores sobre a % de vitória')\n",
    "\n",
    "# Cria o segundo subplot\n",
    "plt.subplot(2, 1, 2)\n",
    "sns.regplot('Overall Average', 'Goals For (GF)', data=merged_df, marker=\"+\", line_kws={'color':'black'}, scatter_kws={'color':'lightblue'})\n",
    "plt.title('Influência da média de torcedores sobre a % de vitória')\n",
    "plt.xlabel('Média de torcedores por jogo por temporada')\n",
    "\n",
    "# Melhora o espaçamento entre os gráficos\n",
    "plt.tight_layout()"
   ]
  },
  {
   "cell_type": "markdown",
   "metadata": {},
   "source": [
    "### E o que acontece com o pior time? Por que ele vai tão mal?\n",
    "Agora já sabemos o que leva um time a vitória, entretanto, o que levar um time ao declínio? Vamos tentar descobrir um pouco mais."
   ]
  },
  {
   "cell_type": "code",
   "execution_count": 38,
   "metadata": {},
   "outputs": [
    {
     "name": "stdout",
     "output_type": "stream",
     "text": [
      "Hartford Whalers\n"
     ]
    }
   ],
   "source": [
    "pior_time_historia = pct_vitorias_por_time.nsmallest(1, 'Win %')['Team Name'].iloc[0]\n",
    "print(pior_time_historia)"
   ]
  },
  {
   "cell_type": "markdown",
   "metadata": {},
   "source": [
    "Agora que sabemos qual pior time da história, o que torna o Hartford Whalers tão ruim?"
   ]
  },
  {
   "cell_type": "code",
   "execution_count": 39,
   "metadata": {},
   "outputs": [
    {
     "data": {
      "text/html": [
       "<div>\n",
       "<style scoped>\n",
       "    .dataframe tbody tr th:only-of-type {\n",
       "        vertical-align: middle;\n",
       "    }\n",
       "\n",
       "    .dataframe tbody tr th {\n",
       "        vertical-align: top;\n",
       "    }\n",
       "\n",
       "    .dataframe thead th {\n",
       "        text-align: right;\n",
       "    }\n",
       "</style>\n",
       "<table border=\"1\" class=\"dataframe\">\n",
       "  <thead>\n",
       "    <tr style=\"text-align: right;\">\n",
       "      <th></th>\n",
       "      <th>Team Name</th>\n",
       "      <th>Year</th>\n",
       "      <th>Wins</th>\n",
       "      <th>Losses</th>\n",
       "      <th>OT Losses</th>\n",
       "      <th>Win %</th>\n",
       "      <th>Goals For (GF)</th>\n",
       "      <th>Goals Against (GA)</th>\n",
       "      <th>+ / -</th>\n",
       "    </tr>\n",
       "  </thead>\n",
       "  <tbody>\n",
       "    <tr>\n",
       "      <th>6</th>\n",
       "      <td>Hartford Whalers</td>\n",
       "      <td>1990</td>\n",
       "      <td>31</td>\n",
       "      <td>38</td>\n",
       "      <td>0.0</td>\n",
       "      <td>0.388</td>\n",
       "      <td>238</td>\n",
       "      <td>276</td>\n",
       "      <td>-38</td>\n",
       "    </tr>\n",
       "    <tr>\n",
       "      <th>27</th>\n",
       "      <td>Hartford Whalers</td>\n",
       "      <td>1991</td>\n",
       "      <td>26</td>\n",
       "      <td>41</td>\n",
       "      <td>0.0</td>\n",
       "      <td>0.325</td>\n",
       "      <td>247</td>\n",
       "      <td>283</td>\n",
       "      <td>-36</td>\n",
       "    </tr>\n",
       "    <tr>\n",
       "      <th>49</th>\n",
       "      <td>Hartford Whalers</td>\n",
       "      <td>1992</td>\n",
       "      <td>26</td>\n",
       "      <td>52</td>\n",
       "      <td>0.0</td>\n",
       "      <td>0.310</td>\n",
       "      <td>284</td>\n",
       "      <td>369</td>\n",
       "      <td>-85</td>\n",
       "    </tr>\n",
       "    <tr>\n",
       "      <th>76</th>\n",
       "      <td>Hartford Whalers</td>\n",
       "      <td>1993</td>\n",
       "      <td>27</td>\n",
       "      <td>48</td>\n",
       "      <td>0.0</td>\n",
       "      <td>0.321</td>\n",
       "      <td>227</td>\n",
       "      <td>288</td>\n",
       "      <td>-61</td>\n",
       "    </tr>\n",
       "    <tr>\n",
       "      <th>102</th>\n",
       "      <td>Hartford Whalers</td>\n",
       "      <td>1994</td>\n",
       "      <td>19</td>\n",
       "      <td>24</td>\n",
       "      <td>0.0</td>\n",
       "      <td>0.396</td>\n",
       "      <td>127</td>\n",
       "      <td>141</td>\n",
       "      <td>-14</td>\n",
       "    </tr>\n",
       "    <tr>\n",
       "      <th>129</th>\n",
       "      <td>Hartford Whalers</td>\n",
       "      <td>1995</td>\n",
       "      <td>34</td>\n",
       "      <td>39</td>\n",
       "      <td>0.0</td>\n",
       "      <td>0.415</td>\n",
       "      <td>237</td>\n",
       "      <td>259</td>\n",
       "      <td>-22</td>\n",
       "    </tr>\n",
       "    <tr>\n",
       "      <th>155</th>\n",
       "      <td>Hartford Whalers</td>\n",
       "      <td>1996</td>\n",
       "      <td>32</td>\n",
       "      <td>39</td>\n",
       "      <td>0.0</td>\n",
       "      <td>0.390</td>\n",
       "      <td>226</td>\n",
       "      <td>256</td>\n",
       "      <td>-30</td>\n",
       "    </tr>\n",
       "  </tbody>\n",
       "</table>\n",
       "</div>"
      ],
      "text/plain": [
       "            Team Name  Year  Wins  Losses  OT Losses  Win %  Goals For (GF)  \\\n",
       "6    Hartford Whalers  1990    31      38        0.0  0.388             238   \n",
       "27   Hartford Whalers  1991    26      41        0.0  0.325             247   \n",
       "49   Hartford Whalers  1992    26      52        0.0  0.310             284   \n",
       "76   Hartford Whalers  1993    27      48        0.0  0.321             227   \n",
       "102  Hartford Whalers  1994    19      24        0.0  0.396             127   \n",
       "129  Hartford Whalers  1995    34      39        0.0  0.415             237   \n",
       "155  Hartford Whalers  1996    32      39        0.0  0.390             226   \n",
       "\n",
       "     Goals Against (GA)  + / -  \n",
       "6                   276    -38  \n",
       "27                  283    -36  \n",
       "49                  369    -85  \n",
       "76                  288    -61  \n",
       "102                 141    -14  \n",
       "129                 259    -22  \n",
       "155                 256    -30  "
      ]
     },
     "metadata": {},
     "output_type": "display_data"
    }
   ],
   "source": [
    "dados_Team_Hartford = df_Teams[df_Teams['Team Name'] == pior_time_historia]\n",
    "display(dados_Team_Hartford)"
   ]
  },
  {
   "cell_type": "markdown",
   "metadata": {},
   "source": [
    "Percebemos logo de cara que o Hartford Whalers foi tão muito ao longo de seus anos na liga que após 1996 o time simplesmente saiu das pistas de gelo do Hockey. Outro ponto importante que é que o saldo de gols do time aparentemente é horrível... "
   ]
  },
  {
   "cell_type": "code",
   "execution_count": 40,
   "metadata": {},
   "outputs": [],
   "source": [
    "saldo_gols_por_time = df_Teams.groupby('Team Name', as_index=False)['+ / -'].mean()\n",
    "saldo_gols_Hartford = saldo_gols_por_time[saldo_gols_por_time['Team Name'] == pior_time_historia]"
   ]
  },
  {
   "cell_type": "code",
   "execution_count": 41,
   "metadata": {},
   "outputs": [
    {
     "data": {
      "image/png": "[encoded data removed]",
      "text/plain": [
       "<Figure size 432x288 with 1 Axes>"
      ]
     },
     "metadata": {},
     "output_type": "display_data"
    }
   ],
   "source": [
    "sns.stripplot(y = saldo_gols_por_time['+ / -'], linewidth=1, color=\"gray\")\n",
    "sns.stripplot(y = saldo_gols_Hartford['+ / -'], color='red', size=7, linewidth=1)\n",
    "plt.title(\"Saldo de gols médio por times\")\n",
    "plt.show()"
   ]
  },
  {
   "cell_type": "markdown",
   "metadata": {},
   "source": [
    "Percebemos que o Hartford Whalers possui um dos piores saldos de gols médio entre os times que já participaram da liga, o que pode terinfluenciado no seu péssimo desempenho ao longo dos anos. Entretanto, como o Hartford Whalers ficou pouco tempo na liga, tentaremos pegar o segundo pior time para tentar tirar mais conclusões sobre motivo de um time ir tão mal no Hockey."
   ]
  },
  {
   "cell_type": "code",
   "execution_count": 42,
   "metadata": {},
   "outputs": [
    {
     "name": "stdout",
     "output_type": "stream",
     "text": [
      "Columbus Blue Jackets\n"
     ]
    }
   ],
   "source": [
    "pior_time_historia_3 = pct_vitorias_por_time.nsmallest(3, 'Win %')['Team Name'].iloc[2]\n",
    "print(pior_time_historia_3)"
   ]
  },
  {
   "cell_type": "code",
   "execution_count": 43,
   "metadata": {
    "scrolled": true
   },
   "outputs": [
    {
     "data": {
      "text/html": [
       "<div>\n",
       "<style scoped>\n",
       "    .dataframe tbody tr th:only-of-type {\n",
       "        vertical-align: middle;\n",
       "    }\n",
       "\n",
       "    .dataframe tbody tr th {\n",
       "        vertical-align: top;\n",
       "    }\n",
       "\n",
       "    .dataframe thead th {\n",
       "        text-align: right;\n",
       "    }\n",
       "</style>\n",
       "<table border=\"1\" class=\"dataframe\">\n",
       "  <thead>\n",
       "    <tr style=\"text-align: right;\">\n",
       "      <th></th>\n",
       "      <th>Team Name</th>\n",
       "      <th>Year</th>\n",
       "      <th>Wins</th>\n",
       "      <th>Losses</th>\n",
       "      <th>OT Losses</th>\n",
       "      <th>Win %</th>\n",
       "      <th>Goals For (GF)</th>\n",
       "      <th>Goals Against (GA)</th>\n",
       "      <th>+ / -</th>\n",
       "    </tr>\n",
       "  </thead>\n",
       "  <tbody>\n",
       "    <tr>\n",
       "      <th>258</th>\n",
       "      <td>Columbus Blue Jackets</td>\n",
       "      <td>2000</td>\n",
       "      <td>28</td>\n",
       "      <td>39</td>\n",
       "      <td>6.0</td>\n",
       "      <td>0.341</td>\n",
       "      <td>190</td>\n",
       "      <td>233</td>\n",
       "      <td>-43</td>\n",
       "    </tr>\n",
       "    <tr>\n",
       "      <th>288</th>\n",
       "      <td>Columbus Blue Jackets</td>\n",
       "      <td>2001</td>\n",
       "      <td>22</td>\n",
       "      <td>47</td>\n",
       "      <td>5.0</td>\n",
       "      <td>0.268</td>\n",
       "      <td>164</td>\n",
       "      <td>255</td>\n",
       "      <td>-91</td>\n",
       "    </tr>\n",
       "    <tr>\n",
       "      <th>318</th>\n",
       "      <td>Columbus Blue Jackets</td>\n",
       "      <td>2002</td>\n",
       "      <td>29</td>\n",
       "      <td>42</td>\n",
       "      <td>3.0</td>\n",
       "      <td>0.354</td>\n",
       "      <td>213</td>\n",
       "      <td>263</td>\n",
       "      <td>-50</td>\n",
       "    </tr>\n",
       "    <tr>\n",
       "      <th>348</th>\n",
       "      <td>Columbus Blue Jackets</td>\n",
       "      <td>2003</td>\n",
       "      <td>25</td>\n",
       "      <td>45</td>\n",
       "      <td>4.0</td>\n",
       "      <td>0.305</td>\n",
       "      <td>177</td>\n",
       "      <td>238</td>\n",
       "      <td>-61</td>\n",
       "    </tr>\n",
       "    <tr>\n",
       "      <th>378</th>\n",
       "      <td>Columbus Blue Jackets</td>\n",
       "      <td>2005</td>\n",
       "      <td>35</td>\n",
       "      <td>43</td>\n",
       "      <td>4.0</td>\n",
       "      <td>0.427</td>\n",
       "      <td>223</td>\n",
       "      <td>279</td>\n",
       "      <td>-56</td>\n",
       "    </tr>\n",
       "    <tr>\n",
       "      <th>408</th>\n",
       "      <td>Columbus Blue Jackets</td>\n",
       "      <td>2006</td>\n",
       "      <td>33</td>\n",
       "      <td>42</td>\n",
       "      <td>7.0</td>\n",
       "      <td>0.402</td>\n",
       "      <td>201</td>\n",
       "      <td>249</td>\n",
       "      <td>-48</td>\n",
       "    </tr>\n",
       "    <tr>\n",
       "      <th>438</th>\n",
       "      <td>Columbus Blue Jackets</td>\n",
       "      <td>2007</td>\n",
       "      <td>34</td>\n",
       "      <td>36</td>\n",
       "      <td>12.0</td>\n",
       "      <td>0.415</td>\n",
       "      <td>193</td>\n",
       "      <td>218</td>\n",
       "      <td>-25</td>\n",
       "    </tr>\n",
       "    <tr>\n",
       "      <th>468</th>\n",
       "      <td>Columbus Blue Jackets</td>\n",
       "      <td>2008</td>\n",
       "      <td>41</td>\n",
       "      <td>31</td>\n",
       "      <td>10.0</td>\n",
       "      <td>0.500</td>\n",
       "      <td>226</td>\n",
       "      <td>230</td>\n",
       "      <td>-4</td>\n",
       "    </tr>\n",
       "    <tr>\n",
       "      <th>498</th>\n",
       "      <td>Columbus Blue Jackets</td>\n",
       "      <td>2009</td>\n",
       "      <td>32</td>\n",
       "      <td>35</td>\n",
       "      <td>15.0</td>\n",
       "      <td>0.390</td>\n",
       "      <td>216</td>\n",
       "      <td>259</td>\n",
       "      <td>-43</td>\n",
       "    </tr>\n",
       "    <tr>\n",
       "      <th>528</th>\n",
       "      <td>Columbus Blue Jackets</td>\n",
       "      <td>2010</td>\n",
       "      <td>34</td>\n",
       "      <td>35</td>\n",
       "      <td>13.0</td>\n",
       "      <td>0.415</td>\n",
       "      <td>215</td>\n",
       "      <td>258</td>\n",
       "      <td>-43</td>\n",
       "    </tr>\n",
       "    <tr>\n",
       "      <th>557</th>\n",
       "      <td>Columbus Blue Jackets</td>\n",
       "      <td>2011</td>\n",
       "      <td>29</td>\n",
       "      <td>46</td>\n",
       "      <td>7.0</td>\n",
       "      <td>0.354</td>\n",
       "      <td>202</td>\n",
       "      <td>262</td>\n",
       "      <td>-60</td>\n",
       "    </tr>\n",
       "  </tbody>\n",
       "</table>\n",
       "</div>"
      ],
      "text/plain": [
       "                 Team Name  Year  Wins  Losses  OT Losses  Win %  \\\n",
       "258  Columbus Blue Jackets  2000    28      39        6.0  0.341   \n",
       "288  Columbus Blue Jackets  2001    22      47        5.0  0.268   \n",
       "318  Columbus Blue Jackets  2002    29      42        3.0  0.354   \n",
       "348  Columbus Blue Jackets  2003    25      45        4.0  0.305   \n",
       "378  Columbus Blue Jackets  2005    35      43        4.0  0.427   \n",
       "408  Columbus Blue Jackets  2006    33      42        7.0  0.402   \n",
       "438  Columbus Blue Jackets  2007    34      36       12.0  0.415   \n",
       "468  Columbus Blue Jackets  2008    41      31       10.0  0.500   \n",
       "498  Columbus Blue Jackets  2009    32      35       15.0  0.390   \n",
       "528  Columbus Blue Jackets  2010    34      35       13.0  0.415   \n",
       "557  Columbus Blue Jackets  2011    29      46        7.0  0.354   \n",
       "\n",
       "     Goals For (GF)  Goals Against (GA)  + / -  \n",
       "258             190                 233    -43  \n",
       "288             164                 255    -91  \n",
       "318             213                 263    -50  \n",
       "348             177                 238    -61  \n",
       "378             223                 279    -56  \n",
       "408             201                 249    -48  \n",
       "438             193                 218    -25  \n",
       "468             226                 230     -4  \n",
       "498             216                 259    -43  \n",
       "528             215                 258    -43  \n",
       "557             202                 262    -60  "
      ]
     },
     "metadata": {},
     "output_type": "display_data"
    }
   ],
   "source": [
    "dados_Team_Jackets = df_Teams[df_Teams['Team Name'] == pior_time_historia_3]\n",
    "display(dados_Team_Jackets)"
   ]
  },
  {
   "cell_type": "code",
   "execution_count": 45,
   "metadata": {
    "scrolled": false
   },
   "outputs": [
    {
     "data": {
      "text/html": [
       "<div>\n",
       "<style scoped>\n",
       "    .dataframe tbody tr th:only-of-type {\n",
       "        vertical-align: middle;\n",
       "    }\n",
       "\n",
       "    .dataframe tbody tr th {\n",
       "        vertical-align: top;\n",
       "    }\n",
       "\n",
       "    .dataframe thead th {\n",
       "        text-align: right;\n",
       "    }\n",
       "</style>\n",
       "<table border=\"1\" class=\"dataframe\">\n",
       "  <thead>\n",
       "    <tr style=\"text-align: right;\">\n",
       "      <th></th>\n",
       "      <th>Team</th>\n",
       "      <th>Home Games</th>\n",
       "      <th>Home Total</th>\n",
       "      <th>Home Average</th>\n",
       "      <th>Road Games</th>\n",
       "      <th>Road Average</th>\n",
       "      <th>Overall Games</th>\n",
       "      <th>Overall Average</th>\n",
       "      <th>Year</th>\n",
       "      <th>Save Percentage</th>\n",
       "      <th>Penalty Minutes</th>\n",
       "      <th>Penalty Minutes Against</th>\n",
       "    </tr>\n",
       "  </thead>\n",
       "  <tbody>\n",
       "    <tr>\n",
       "      <th>11</th>\n",
       "      <td>Columbus Blue Jackets</td>\n",
       "      <td>41</td>\n",
       "      <td>715738</td>\n",
       "      <td>17457</td>\n",
       "      <td>41</td>\n",
       "      <td>16002</td>\n",
       "      <td>82</td>\n",
       "      <td>16729</td>\n",
       "      <td>2001</td>\n",
       "      <td>0.906</td>\n",
       "      <td>1234</td>\n",
       "      <td>1239</td>\n",
       "    </tr>\n",
       "    <tr>\n",
       "      <th>36</th>\n",
       "      <td>Columbus Blue Jackets</td>\n",
       "      <td>41</td>\n",
       "      <td>743576</td>\n",
       "      <td>18136</td>\n",
       "      <td>41</td>\n",
       "      <td>16036</td>\n",
       "      <td>82</td>\n",
       "      <td>17086</td>\n",
       "      <td>2002</td>\n",
       "      <td>0.897</td>\n",
       "      <td>1198</td>\n",
       "      <td>1334</td>\n",
       "    </tr>\n",
       "    <tr>\n",
       "      <th>68</th>\n",
       "      <td>Columbus Blue Jackets</td>\n",
       "      <td>41</td>\n",
       "      <td>727522</td>\n",
       "      <td>17744</td>\n",
       "      <td>41</td>\n",
       "      <td>16139</td>\n",
       "      <td>82</td>\n",
       "      <td>16941</td>\n",
       "      <td>2003</td>\n",
       "      <td>0.900</td>\n",
       "      <td>1505</td>\n",
       "      <td>1587</td>\n",
       "    </tr>\n",
       "    <tr>\n",
       "      <th>101</th>\n",
       "      <td>Columbus Blue Jackets</td>\n",
       "      <td>41</td>\n",
       "      <td>712145</td>\n",
       "      <td>17369</td>\n",
       "      <td>41</td>\n",
       "      <td>16065</td>\n",
       "      <td>82</td>\n",
       "      <td>16717</td>\n",
       "      <td>2004</td>\n",
       "      <td>0.909</td>\n",
       "      <td>1209</td>\n",
       "      <td>1336</td>\n",
       "    </tr>\n",
       "    <tr>\n",
       "      <th>132</th>\n",
       "      <td>Columbus Blue Jackets</td>\n",
       "      <td>41</td>\n",
       "      <td>688655</td>\n",
       "      <td>16796</td>\n",
       "      <td>41</td>\n",
       "      <td>16193</td>\n",
       "      <td>82</td>\n",
       "      <td>16495</td>\n",
       "      <td>2006</td>\n",
       "      <td>0.900</td>\n",
       "      <td>1414</td>\n",
       "      <td>1282</td>\n",
       "    </tr>\n",
       "  </tbody>\n",
       "</table>\n",
       "</div>"
      ],
      "text/plain": [
       "                      Team  Home Games  Home Total  Home Average  Road Games  \\\n",
       "11   Columbus Blue Jackets          41      715738         17457          41   \n",
       "36   Columbus Blue Jackets          41      743576         18136          41   \n",
       "68   Columbus Blue Jackets          41      727522         17744          41   \n",
       "101  Columbus Blue Jackets          41      712145         17369          41   \n",
       "132  Columbus Blue Jackets          41      688655         16796          41   \n",
       "\n",
       "     Road Average  Overall Games  Overall Average  Year  Save Percentage  \\\n",
       "11          16002             82            16729  2001            0.906   \n",
       "36          16036             82            17086  2002            0.897   \n",
       "68          16139             82            16941  2003            0.900   \n",
       "101         16065             82            16717  2004            0.909   \n",
       "132         16193             82            16495  2006            0.900   \n",
       "\n",
       "     Penalty Minutes  Penalty Minutes Against  \n",
       "11              1234                     1239  \n",
       "36              1198                     1334  \n",
       "68              1505                     1587  \n",
       "101             1209                     1336  \n",
       "132             1414                     1282  "
      ]
     },
     "execution_count": 45,
     "metadata": {},
     "output_type": "execute_result"
    }
   ],
   "source": [
    "dados_ESPN_Jackets = df_ESPN[df_ESPN['Team'] == pior_time_historia_3]\n",
    "dados_ESPN_Jackets.head()"
   ]
  },
  {
   "cell_type": "markdown",
   "metadata": {},
   "source": [
    "Aqui iremos fazer uma abordagem diferente: Iremos plotar todos os gráficos relevantes utilizando as médias dos dados em geral e em destaque a média do Columbus Blue Jackets."
   ]
  },
  {
   "cell_type": "code",
   "execution_count": 46,
   "metadata": {
    "scrolled": true
   },
   "outputs": [
    {
     "data": {
      "text/plain": [
       "Home Games                     40.9000\n",
       "Home Total                 668355.6000\n",
       "Home Average                16334.3000\n",
       "Road Games                     40.9000\n",
       "Road Average                16492.8000\n",
       "Overall Games                  81.8000\n",
       "Overall Average             16413.5000\n",
       "Year                         2006.1000\n",
       "Save Percentage                 0.9016\n",
       "Penalty Minutes              1266.8000\n",
       "Penalty Minutes Against      1265.7000\n",
       "dtype: float64"
      ]
     },
     "metadata": {},
     "output_type": "display_data"
    }
   ],
   "source": [
    "media_dados_ESPN_Jackets = dados_ESPN_Jackets.mean()\n",
    "display(media_dados_ESPN_Jackets)"
   ]
  },
  {
   "cell_type": "code",
   "execution_count": 47,
   "metadata": {},
   "outputs": [
    {
     "data": {
      "text/plain": [
       "Home Games                     40.962069\n",
       "Home Total                 696862.827586\n",
       "Home Average                17012.513793\n",
       "Road Games                     40.962069\n",
       "Road Average                16948.351724\n",
       "Overall Games                  81.924138\n",
       "Overall Average             16980.437931\n",
       "Year                         2006.100000\n",
       "Save Percentage                 0.905528\n",
       "Penalty Minutes              1169.444828\n",
       "Penalty Minutes Against      1170.213793\n",
       "dtype: float64"
      ]
     },
     "metadata": {},
     "output_type": "display_data"
    }
   ],
   "source": [
    "media_dados_ESPN = df_ESPN.mean()\n",
    "display(media_dados_ESPN)"
   ]
  },
  {
   "cell_type": "code",
   "execution_count": 63,
   "metadata": {},
   "outputs": [],
   "source": [
    "def plota_kde(df_ESPN, media_dados_ESPN_Jackets, coluna, num_plot):\n",
    "    \n",
    "    plt.subplot(num_plot)\n",
    "    ax = sns.kdeplot(df_ESPN[coluna], shade=True, color=\"r\")\n",
    "    data_x, data_y = ax.lines[0].get_data()\n",
    "    xi = media_dados_ESPN_Jackets[coluna]\n",
    "    yi = np.interp(xi,data_x, data_y)\n",
    "    sns.despine(left=True)\n",
    "    plt.plot(xi, yi, marker=\"X\", ms=10, color=\"maroon\")\n",
    "    plt.xticks(rotation=45)\n",
    "    plt.yticks([])"
   ]
  },
  {
   "cell_type": "code",
   "execution_count": 64,
   "metadata": {
    "scrolled": false
   },
   "outputs": [
    {
     "data": {
      "image/png": "[encoded data removed]",
      "text/plain": [
       "<Figure size 1080x864 with 7 Axes>"
      ]
     },
     "metadata": {},
     "output_type": "display_data"
    }
   ],
   "source": [
    "sns.set_style('white')\n",
    "\n",
    "plt.figure(figsize=(15,12))\n",
    "\n",
    "plota_kde(df_ESPN, media_dados_ESPN_Jackets, 'Home Total', \"331\")\n",
    "plota_kde(df_ESPN, media_dados_ESPN_Jackets, 'Home Average', \"332\")\n",
    "plota_kde(df_ESPN, media_dados_ESPN_Jackets, 'Road Average', \"333\")\n",
    "plota_kde(df_ESPN, media_dados_ESPN_Jackets, 'Overall Average', \"334\")\n",
    "plota_kde(df_ESPN, media_dados_ESPN_Jackets, 'Save Percentage', \"335\")\n",
    "plota_kde(df_ESPN, media_dados_ESPN_Jackets, 'Penalty Minutes', \"336\")\n",
    "plota_kde(df_ESPN, media_dados_ESPN_Jackets, 'Penalty Minutes Against', \"337\")\n",
    "\n",
    "plt.show()"
   ]
  },
  {
   "cell_type": "markdown",
   "metadata": {},
   "source": [
    "Analisando os dados temos alguns gráficos que merecem destaque:\n",
    "*  A Média de torcedores por jogo fora de casa da temporada (Road Average) do Columbus Blue Jackets é bem abaixo da média, o que pode identificar um baixo engajamento dos torcedores em relação ao time;\n",
    "*  Considerando que a curva  de Minutos de penalidade que o time sofreu (Penalty Minutes) possui uma base estreita (valores variando de 500 a 1750) e um pico bem definido (o que indica o valor comum a vários times), conseguimos concluir que o tempo de penalidade do Columbus Blue Jackets possui um valor notadamente maior que os demais. Esse maior tempo de penalidade é então um dos fatores que podem influenciar na má fase do time ao longo dos anos."
   ]
  },
  {
   "cell_type": "markdown",
   "metadata": {},
   "source": [
    "### E por fim... O Hockey está ganhando mais espaço ao longo dos anos?\n",
    "Já vimos alguns fatores que são cruciais para se dar bem nas pistas. Mas será que o esport em si está se dando bem com as pessoas? Vamos ver!"
   ]
  },
  {
   "cell_type": "code",
   "execution_count": 84,
   "metadata": {},
   "outputs": [
    {
     "data": {
      "image/png": "[encoded data removed]",
      "text/plain": [
       "<Figure size 720x432 with 1 Axes>"
      ]
     },
     "metadata": {},
     "output_type": "display_data"
    }
   ],
   "source": [
    "sns.set_style('whitegrid')\n",
    "\n",
    "plt.figure(figsize=(10,6))\n",
    "\n",
    "sns.boxplot(x=\"Year\", y=\"Overall Average\", data=df_ESPN, palette=\"Set3\")\n",
    "plt.title(\"Média de torcedores por jogo da temporada a cada ano\")\n",
    "plt.show()"
   ]
  },
  {
   "cell_type": "markdown",
   "metadata": {},
   "source": [
    "Analisando os boxplots ao longo dos anos, percebemos que a média de jogadores tende a aumentar com o passar dos anos, mesmo tendo algumas oscilações. Entretanto, como tais valores não são tão destoantes uns dos outros, vamos realizar um teste de ANOVA para verificar se realmente existe uma média diferente das demais."
   ]
  },
  {
   "cell_type": "code",
   "execution_count": 99,
   "metadata": {},
   "outputs": [],
   "source": [
    "# Pega os anos que foram monitorados pelo dataframe\n",
    "anos = pd.unique(df_ESPN[\"Year\"].values)\n",
    "\n",
    "# Cria dicionário com os valores\n",
    "medias_torcedores = {str(ano):df_ESPN[\"Overall Average\"][df_ESPN[\"Year\"] == ano] for ano in anos}"
   ]
  },
  {
   "cell_type": "code",
   "execution_count": 102,
   "metadata": {},
   "outputs": [
    {
     "name": "stdout",
     "output_type": "stream",
     "text": [
      "Estatística f: 2.196834904147308\n",
      "p-valor: 0.02244194960307806\n"
     ]
    }
   ],
   "source": [
    "from scipy import stats\n",
    "\n",
    "# Faz o teste de ANOVA com 1 fator\n",
    "f, p = stats.f_oneway(medias_torcedores[\"2001\"],\n",
    "                      medias_torcedores[\"2002\"],\n",
    "                      medias_torcedores[\"2003\"],\n",
    "                      medias_torcedores[\"2004\"],\n",
    "                      medias_torcedores[\"2006\"],\n",
    "                      medias_torcedores[\"2007\"],\n",
    "                      medias_torcedores[\"2008\"],\n",
    "                      medias_torcedores[\"2009\"],\n",
    "                      medias_torcedores[\"2010\"],\n",
    "                      medias_torcedores[\"2011\"]\n",
    "                     )\n",
    "\n",
    "# printa o p-valor e a estatística f obtido\n",
    "print(\"Estatística f: \" + str(f))\n",
    "print(\"p-valor: \" + str(p))"
   ]
  },
  {
   "cell_type": "markdown",
   "metadata": {},
   "source": [
    "Analisando o p-valor, podemos perceber que ele é um valor muito baixo (abaixo de 0.05), o que indica que nos diversos níveis de confiança (5%, 1% entre outros), podemos afirmar que a hipótese nula não é válida, ou seja, **dentro das médias ao longo dos anos existe, de fato, pelo menos 1 delas que é destoante das demais**. Dessa forma, podemos concluir que realmente houve uma diferença entre as médias e como os boxplots nos indica, uma diferença positiva. Então: SIM, o Hockey está crescendo ao longo dos anos. <br>\n",
    "Além disso, vale ressaltar que num teste de ANOVA, a hipótese nula é a igualdade entre médias e a hipótese alternativa indica que pelo menos uma delas não é igual as demais. <br>\n",
    "_Aqui considerei diversas coisas que não deu tempo de analisar por falta de tempo, como: populações normalmente distribuida, populações tem mesma variância (ou mesmo desvio padrão), amostras são aleatórias e mutuamente independentes e as diferentes amostras são obtidas de populações classificadas em apenas uma categoria._"
   ]
  },
  {
   "cell_type": "markdown",
   "metadata": {},
   "source": [
    "Bom, era isso vlw flw."
   ]
  }
 ],
 "metadata": {
  "kernelspec": {
   "display_name": "Python 3",
   "language": "python",
   "name": "python3"
  },
  "language_info": {
   "codemirror_mode": {
    "name": "ipython",
    "version": 3
   },
   "file_extension": ".py",
   "mimetype": "text/x-python",
   "name": "python",
   "nbconvert_exporter": "python",
   "pygments_lexer": "ipython3",
   "version": "3.7.3"
  }
 },
 "nbformat": 4,
 "nbformat_minor": 2
}
